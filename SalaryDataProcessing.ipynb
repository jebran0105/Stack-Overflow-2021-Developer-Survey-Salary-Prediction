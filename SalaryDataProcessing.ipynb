{
 "cells": [
  {
   "cell_type": "markdown",
   "source": [
    "Preprocessing data from Stack Overflow's 2021 Annual Developer Survey"
   ],
   "metadata": {
    "collapsed": false,
    "pycharm": {
     "name": "#%% md\n"
    }
   }
  },
  {
   "cell_type": "code",
   "execution_count": 1360,
   "outputs": [],
   "source": [
    "import pandas as pd\n",
    "import matplotlib.pyplot as plt\n",
    "import seaborn as sns\n",
    "import numpy as np"
   ],
   "metadata": {
    "collapsed": false,
    "pycharm": {
     "name": "#%%\n"
    }
   }
  },
  {
   "cell_type": "code",
   "execution_count": 1361,
   "outputs": [],
   "source": [
    "df = pd.read_csv('/Users/jebranirshad/Downloads/stack-overflow-developer-survey-2021/survey_results_public.csv')"
   ],
   "metadata": {
    "collapsed": false,
    "pycharm": {
     "name": "#%%\n"
    }
   }
  },
  {
   "cell_type": "code",
   "execution_count": 1362,
   "outputs": [
    {
     "data": {
      "text/plain": "   ResponseId                                         MainBranch  \\\n0           1                     I am a developer by profession   \n1           2             I am a student who is learning to code   \n2           3  I am not primarily a developer, but I write co...   \n3           4                     I am a developer by profession   \n4           5                     I am a developer by profession   \n\n                                          Employment  \\\n0  Independent contractor, freelancer, or self-em...   \n1                                 Student, full-time   \n2                                 Student, full-time   \n3                                 Employed full-time   \n4  Independent contractor, freelancer, or self-em...   \n\n                                             Country US_State UK_Country  \\\n0                                           Slovakia      NaN        NaN   \n1                                        Netherlands      NaN        NaN   \n2                                 Russian Federation      NaN        NaN   \n3                                            Austria      NaN        NaN   \n4  United Kingdom of Great Britain and Northern I...      NaN    England   \n\n                                             EdLevel     Age1stCode  \\\n0  Secondary school (e.g. American high school, G...  18 - 24 years   \n1       Bachelor’s degree (B.A., B.S., B.Eng., etc.)  11 - 17 years   \n2       Bachelor’s degree (B.A., B.S., B.Eng., etc.)  11 - 17 years   \n3    Master’s degree (M.A., M.S., M.Eng., MBA, etc.)  11 - 17 years   \n4    Master’s degree (M.A., M.S., M.Eng., MBA, etc.)   5 - 10 years   \n\n                                           LearnCode YearsCode  ...  \\\n0  Coding Bootcamp;Other online resources (ex: vi...       NaN  ...   \n1  Other online resources (ex: videos, blogs, etc...         7  ...   \n2  Other online resources (ex: videos, blogs, etc...       NaN  ...   \n3                                                NaN       NaN  ...   \n4                            Friend or family member        17  ...   \n\n               Age Gender Trans                Sexuality  \\\n0  25-34 years old    Man    No  Straight / Heterosexual   \n1  18-24 years old    Man    No  Straight / Heterosexual   \n2  18-24 years old    Man    No        Prefer not to say   \n3  35-44 years old    Man    No  Straight / Heterosexual   \n4  25-34 years old    Man    No                      NaN   \n\n                      Ethnicity                Accessibility  \\\n0  White or of European descent            None of the above   \n1  White or of European descent            None of the above   \n2             Prefer not to say            None of the above   \n3  White or of European descent  I am deaf / hard of hearing   \n4  White or of European descent            None of the above   \n\n        MentalHealth           SurveyLength                  SurveyEase  \\\n0  None of the above  Appropriate in length                        Easy   \n1  None of the above  Appropriate in length                        Easy   \n2  None of the above  Appropriate in length                        Easy   \n3                NaN  Appropriate in length  Neither easy nor difficult   \n4                NaN  Appropriate in length                        Easy   \n\n  ConvertedCompYearly  \n0             62268.0  \n1                 NaN  \n2                 NaN  \n3                 NaN  \n4                 NaN  \n\n[5 rows x 48 columns]",
      "text/html": "<div>\n<style scoped>\n    .dataframe tbody tr th:only-of-type {\n        vertical-align: middle;\n    }\n\n    .dataframe tbody tr th {\n        vertical-align: top;\n    }\n\n    .dataframe thead th {\n        text-align: right;\n    }\n</style>\n<table border=\"1\" class=\"dataframe\">\n  <thead>\n    <tr style=\"text-align: right;\">\n      <th></th>\n      <th>ResponseId</th>\n      <th>MainBranch</th>\n      <th>Employment</th>\n      <th>Country</th>\n      <th>US_State</th>\n      <th>UK_Country</th>\n      <th>EdLevel</th>\n      <th>Age1stCode</th>\n      <th>LearnCode</th>\n      <th>YearsCode</th>\n      <th>...</th>\n      <th>Age</th>\n      <th>Gender</th>\n      <th>Trans</th>\n      <th>Sexuality</th>\n      <th>Ethnicity</th>\n      <th>Accessibility</th>\n      <th>MentalHealth</th>\n      <th>SurveyLength</th>\n      <th>SurveyEase</th>\n      <th>ConvertedCompYearly</th>\n    </tr>\n  </thead>\n  <tbody>\n    <tr>\n      <th>0</th>\n      <td>1</td>\n      <td>I am a developer by profession</td>\n      <td>Independent contractor, freelancer, or self-em...</td>\n      <td>Slovakia</td>\n      <td>NaN</td>\n      <td>NaN</td>\n      <td>Secondary school (e.g. American high school, G...</td>\n      <td>18 - 24 years</td>\n      <td>Coding Bootcamp;Other online resources (ex: vi...</td>\n      <td>NaN</td>\n      <td>...</td>\n      <td>25-34 years old</td>\n      <td>Man</td>\n      <td>No</td>\n      <td>Straight / Heterosexual</td>\n      <td>White or of European descent</td>\n      <td>None of the above</td>\n      <td>None of the above</td>\n      <td>Appropriate in length</td>\n      <td>Easy</td>\n      <td>62268.0</td>\n    </tr>\n    <tr>\n      <th>1</th>\n      <td>2</td>\n      <td>I am a student who is learning to code</td>\n      <td>Student, full-time</td>\n      <td>Netherlands</td>\n      <td>NaN</td>\n      <td>NaN</td>\n      <td>Bachelor’s degree (B.A., B.S., B.Eng., etc.)</td>\n      <td>11 - 17 years</td>\n      <td>Other online resources (ex: videos, blogs, etc...</td>\n      <td>7</td>\n      <td>...</td>\n      <td>18-24 years old</td>\n      <td>Man</td>\n      <td>No</td>\n      <td>Straight / Heterosexual</td>\n      <td>White or of European descent</td>\n      <td>None of the above</td>\n      <td>None of the above</td>\n      <td>Appropriate in length</td>\n      <td>Easy</td>\n      <td>NaN</td>\n    </tr>\n    <tr>\n      <th>2</th>\n      <td>3</td>\n      <td>I am not primarily a developer, but I write co...</td>\n      <td>Student, full-time</td>\n      <td>Russian Federation</td>\n      <td>NaN</td>\n      <td>NaN</td>\n      <td>Bachelor’s degree (B.A., B.S., B.Eng., etc.)</td>\n      <td>11 - 17 years</td>\n      <td>Other online resources (ex: videos, blogs, etc...</td>\n      <td>NaN</td>\n      <td>...</td>\n      <td>18-24 years old</td>\n      <td>Man</td>\n      <td>No</td>\n      <td>Prefer not to say</td>\n      <td>Prefer not to say</td>\n      <td>None of the above</td>\n      <td>None of the above</td>\n      <td>Appropriate in length</td>\n      <td>Easy</td>\n      <td>NaN</td>\n    </tr>\n    <tr>\n      <th>3</th>\n      <td>4</td>\n      <td>I am a developer by profession</td>\n      <td>Employed full-time</td>\n      <td>Austria</td>\n      <td>NaN</td>\n      <td>NaN</td>\n      <td>Master’s degree (M.A., M.S., M.Eng., MBA, etc.)</td>\n      <td>11 - 17 years</td>\n      <td>NaN</td>\n      <td>NaN</td>\n      <td>...</td>\n      <td>35-44 years old</td>\n      <td>Man</td>\n      <td>No</td>\n      <td>Straight / Heterosexual</td>\n      <td>White or of European descent</td>\n      <td>I am deaf / hard of hearing</td>\n      <td>NaN</td>\n      <td>Appropriate in length</td>\n      <td>Neither easy nor difficult</td>\n      <td>NaN</td>\n    </tr>\n    <tr>\n      <th>4</th>\n      <td>5</td>\n      <td>I am a developer by profession</td>\n      <td>Independent contractor, freelancer, or self-em...</td>\n      <td>United Kingdom of Great Britain and Northern I...</td>\n      <td>NaN</td>\n      <td>England</td>\n      <td>Master’s degree (M.A., M.S., M.Eng., MBA, etc.)</td>\n      <td>5 - 10 years</td>\n      <td>Friend or family member</td>\n      <td>17</td>\n      <td>...</td>\n      <td>25-34 years old</td>\n      <td>Man</td>\n      <td>No</td>\n      <td>NaN</td>\n      <td>White or of European descent</td>\n      <td>None of the above</td>\n      <td>NaN</td>\n      <td>Appropriate in length</td>\n      <td>Easy</td>\n      <td>NaN</td>\n    </tr>\n  </tbody>\n</table>\n<p>5 rows × 48 columns</p>\n</div>"
     },
     "execution_count": 1362,
     "metadata": {},
     "output_type": "execute_result"
    }
   ],
   "source": [
    "df.head(5)"
   ],
   "metadata": {
    "collapsed": false,
    "pycharm": {
     "name": "#%%\n"
    }
   }
  },
  {
   "cell_type": "code",
   "execution_count": 1363,
   "outputs": [
    {
     "data": {
      "text/plain": "   ResponseId                                         MainBranch  \\\n0           1                     I am a developer by profession   \n1           2             I am a student who is learning to code   \n2           3  I am not primarily a developer, but I write co...   \n3           4                     I am a developer by profession   \n4           5                     I am a developer by profession   \n\n                                          Employment  \\\n0  Independent contractor, freelancer, or self-em...   \n1                                 Student, full-time   \n2                                 Student, full-time   \n3                                 Employed full-time   \n4  Independent contractor, freelancer, or self-em...   \n\n                                             Country US_State UK_Country  \\\n0                                           Slovakia      NaN        NaN   \n1                                        Netherlands      NaN        NaN   \n2                                 Russian Federation      NaN        NaN   \n3                                            Austria      NaN        NaN   \n4  United Kingdom of Great Britain and Northern I...      NaN    England   \n\n                                             EdLevel     Age1stCode  \\\n0  Secondary school (e.g. American high school, G...  18 - 24 years   \n1       Bachelor’s degree (B.A., B.S., B.Eng., etc.)  11 - 17 years   \n2       Bachelor’s degree (B.A., B.S., B.Eng., etc.)  11 - 17 years   \n3    Master’s degree (M.A., M.S., M.Eng., MBA, etc.)  11 - 17 years   \n4    Master’s degree (M.A., M.S., M.Eng., MBA, etc.)   5 - 10 years   \n\n                                           LearnCode YearsCode  ...  \\\n0  Coding Bootcamp;Other online resources (ex: vi...       NaN  ...   \n1  Other online resources (ex: videos, blogs, etc...         7  ...   \n2  Other online resources (ex: videos, blogs, etc...       NaN  ...   \n3                                                NaN       NaN  ...   \n4                            Friend or family member        17  ...   \n\n               Age Gender Trans                Sexuality  \\\n0  25-34 years old    Man    No  Straight / Heterosexual   \n1  18-24 years old    Man    No  Straight / Heterosexual   \n2  18-24 years old    Man    No        Prefer not to say   \n3  35-44 years old    Man    No  Straight / Heterosexual   \n4  25-34 years old    Man    No                      NaN   \n\n                      Ethnicity                Accessibility  \\\n0  White or of European descent            None of the above   \n1  White or of European descent            None of the above   \n2             Prefer not to say            None of the above   \n3  White or of European descent  I am deaf / hard of hearing   \n4  White or of European descent            None of the above   \n\n        MentalHealth           SurveyLength                  SurveyEase  \\\n0  None of the above  Appropriate in length                        Easy   \n1  None of the above  Appropriate in length                        Easy   \n2  None of the above  Appropriate in length                        Easy   \n3                NaN  Appropriate in length  Neither easy nor difficult   \n4                NaN  Appropriate in length                        Easy   \n\n    Salary  \n0  62268.0  \n1      NaN  \n2      NaN  \n3      NaN  \n4      NaN  \n\n[5 rows x 48 columns]",
      "text/html": "<div>\n<style scoped>\n    .dataframe tbody tr th:only-of-type {\n        vertical-align: middle;\n    }\n\n    .dataframe tbody tr th {\n        vertical-align: top;\n    }\n\n    .dataframe thead th {\n        text-align: right;\n    }\n</style>\n<table border=\"1\" class=\"dataframe\">\n  <thead>\n    <tr style=\"text-align: right;\">\n      <th></th>\n      <th>ResponseId</th>\n      <th>MainBranch</th>\n      <th>Employment</th>\n      <th>Country</th>\n      <th>US_State</th>\n      <th>UK_Country</th>\n      <th>EdLevel</th>\n      <th>Age1stCode</th>\n      <th>LearnCode</th>\n      <th>YearsCode</th>\n      <th>...</th>\n      <th>Age</th>\n      <th>Gender</th>\n      <th>Trans</th>\n      <th>Sexuality</th>\n      <th>Ethnicity</th>\n      <th>Accessibility</th>\n      <th>MentalHealth</th>\n      <th>SurveyLength</th>\n      <th>SurveyEase</th>\n      <th>Salary</th>\n    </tr>\n  </thead>\n  <tbody>\n    <tr>\n      <th>0</th>\n      <td>1</td>\n      <td>I am a developer by profession</td>\n      <td>Independent contractor, freelancer, or self-em...</td>\n      <td>Slovakia</td>\n      <td>NaN</td>\n      <td>NaN</td>\n      <td>Secondary school (e.g. American high school, G...</td>\n      <td>18 - 24 years</td>\n      <td>Coding Bootcamp;Other online resources (ex: vi...</td>\n      <td>NaN</td>\n      <td>...</td>\n      <td>25-34 years old</td>\n      <td>Man</td>\n      <td>No</td>\n      <td>Straight / Heterosexual</td>\n      <td>White or of European descent</td>\n      <td>None of the above</td>\n      <td>None of the above</td>\n      <td>Appropriate in length</td>\n      <td>Easy</td>\n      <td>62268.0</td>\n    </tr>\n    <tr>\n      <th>1</th>\n      <td>2</td>\n      <td>I am a student who is learning to code</td>\n      <td>Student, full-time</td>\n      <td>Netherlands</td>\n      <td>NaN</td>\n      <td>NaN</td>\n      <td>Bachelor’s degree (B.A., B.S., B.Eng., etc.)</td>\n      <td>11 - 17 years</td>\n      <td>Other online resources (ex: videos, blogs, etc...</td>\n      <td>7</td>\n      <td>...</td>\n      <td>18-24 years old</td>\n      <td>Man</td>\n      <td>No</td>\n      <td>Straight / Heterosexual</td>\n      <td>White or of European descent</td>\n      <td>None of the above</td>\n      <td>None of the above</td>\n      <td>Appropriate in length</td>\n      <td>Easy</td>\n      <td>NaN</td>\n    </tr>\n    <tr>\n      <th>2</th>\n      <td>3</td>\n      <td>I am not primarily a developer, but I write co...</td>\n      <td>Student, full-time</td>\n      <td>Russian Federation</td>\n      <td>NaN</td>\n      <td>NaN</td>\n      <td>Bachelor’s degree (B.A., B.S., B.Eng., etc.)</td>\n      <td>11 - 17 years</td>\n      <td>Other online resources (ex: videos, blogs, etc...</td>\n      <td>NaN</td>\n      <td>...</td>\n      <td>18-24 years old</td>\n      <td>Man</td>\n      <td>No</td>\n      <td>Prefer not to say</td>\n      <td>Prefer not to say</td>\n      <td>None of the above</td>\n      <td>None of the above</td>\n      <td>Appropriate in length</td>\n      <td>Easy</td>\n      <td>NaN</td>\n    </tr>\n    <tr>\n      <th>3</th>\n      <td>4</td>\n      <td>I am a developer by profession</td>\n      <td>Employed full-time</td>\n      <td>Austria</td>\n      <td>NaN</td>\n      <td>NaN</td>\n      <td>Master’s degree (M.A., M.S., M.Eng., MBA, etc.)</td>\n      <td>11 - 17 years</td>\n      <td>NaN</td>\n      <td>NaN</td>\n      <td>...</td>\n      <td>35-44 years old</td>\n      <td>Man</td>\n      <td>No</td>\n      <td>Straight / Heterosexual</td>\n      <td>White or of European descent</td>\n      <td>I am deaf / hard of hearing</td>\n      <td>NaN</td>\n      <td>Appropriate in length</td>\n      <td>Neither easy nor difficult</td>\n      <td>NaN</td>\n    </tr>\n    <tr>\n      <th>4</th>\n      <td>5</td>\n      <td>I am a developer by profession</td>\n      <td>Independent contractor, freelancer, or self-em...</td>\n      <td>United Kingdom of Great Britain and Northern I...</td>\n      <td>NaN</td>\n      <td>England</td>\n      <td>Master’s degree (M.A., M.S., M.Eng., MBA, etc.)</td>\n      <td>5 - 10 years</td>\n      <td>Friend or family member</td>\n      <td>17</td>\n      <td>...</td>\n      <td>25-34 years old</td>\n      <td>Man</td>\n      <td>No</td>\n      <td>NaN</td>\n      <td>White or of European descent</td>\n      <td>None of the above</td>\n      <td>NaN</td>\n      <td>Appropriate in length</td>\n      <td>Easy</td>\n      <td>NaN</td>\n    </tr>\n  </tbody>\n</table>\n<p>5 rows × 48 columns</p>\n</div>"
     },
     "execution_count": 1363,
     "metadata": {},
     "output_type": "execute_result"
    }
   ],
   "source": [
    "#Rename 'ConvertedCompYearly' to Salary\n",
    "df = df.rename({'ConvertedCompYearly':'Salary'}, axis = 1)\n",
    "df.head()"
   ],
   "metadata": {
    "collapsed": false,
    "pycharm": {
     "name": "#%%\n"
    }
   }
  },
  {
   "cell_type": "code",
   "execution_count": 1364,
   "outputs": [
    {
     "data": {
      "text/plain": "    ResponseId                      MainBranch  \\\n0            1  I am a developer by profession   \n9           10  I am a developer by profession   \n11          12  I am a developer by profession   \n12          13  I am a developer by profession   \n16          17  I am a developer by profession   \n\n                                           Employment   Country US_State  \\\n0   Independent contractor, freelancer, or self-em...  Slovakia      NaN   \n9                                  Employed full-time    Sweden      NaN   \n11                                 Employed full-time     Spain      NaN   \n12                                 Employed full-time   Germany      NaN   \n16                                 Employed full-time    Turkey      NaN   \n\n   UK_Country                                            EdLevel  \\\n0         NaN  Secondary school (e.g. American high school, G...   \n9         NaN    Master’s degree (M.A., M.S., M.Eng., MBA, etc.)   \n11        NaN       Bachelor’s degree (B.A., B.S., B.Eng., etc.)   \n12        NaN    Master’s degree (M.A., M.S., M.Eng., MBA, etc.)   \n16        NaN       Bachelor’s degree (B.A., B.S., B.Eng., etc.)   \n\n       Age1stCode                                          LearnCode  \\\n0   18 - 24 years  Coding Bootcamp;Other online resources (ex: vi...   \n9   11 - 17 years                                             School   \n11  11 - 17 years  Other online resources (ex: videos, blogs, etc...   \n12  11 - 17 years                            Other (please specify):   \n16   5 - 10 years                                             School   \n\n   YearsCode  ...              Age Gender Trans                Sexuality  \\\n0        NaN  ...  25-34 years old    Man    No  Straight / Heterosexual   \n9          7  ...  25-34 years old    Man    No  Straight / Heterosexual   \n11        12  ...  25-34 years old    Man    No  Straight / Heterosexual   \n12        15  ...  25-34 years old    Man    No  Straight / Heterosexual   \n16         6  ...  25-34 years old    Man    No                      NaN   \n\n                                            Ethnicity      Accessibility  \\\n0                        White or of European descent  None of the above   \n9                        White or of European descent  None of the above   \n11  White or of European descent;Hispanic or Latin...  None of the above   \n12                       White or of European descent  None of the above   \n16                                     Middle Eastern                NaN   \n\n         MentalHealth           SurveyLength                  SurveyEase  \\\n0   None of the above  Appropriate in length                        Easy   \n9   None of the above  Appropriate in length  Neither easy nor difficult   \n11  None of the above               Too long                        Easy   \n12  Prefer not to say  Appropriate in length                        Easy   \n16                NaN  Appropriate in length  Neither easy nor difficult   \n\n     Salary  \n0   62268.0  \n9   51552.0  \n11  46482.0  \n12  77290.0  \n16  17748.0  \n\n[5 rows x 48 columns]",
      "text/html": "<div>\n<style scoped>\n    .dataframe tbody tr th:only-of-type {\n        vertical-align: middle;\n    }\n\n    .dataframe tbody tr th {\n        vertical-align: top;\n    }\n\n    .dataframe thead th {\n        text-align: right;\n    }\n</style>\n<table border=\"1\" class=\"dataframe\">\n  <thead>\n    <tr style=\"text-align: right;\">\n      <th></th>\n      <th>ResponseId</th>\n      <th>MainBranch</th>\n      <th>Employment</th>\n      <th>Country</th>\n      <th>US_State</th>\n      <th>UK_Country</th>\n      <th>EdLevel</th>\n      <th>Age1stCode</th>\n      <th>LearnCode</th>\n      <th>YearsCode</th>\n      <th>...</th>\n      <th>Age</th>\n      <th>Gender</th>\n      <th>Trans</th>\n      <th>Sexuality</th>\n      <th>Ethnicity</th>\n      <th>Accessibility</th>\n      <th>MentalHealth</th>\n      <th>SurveyLength</th>\n      <th>SurveyEase</th>\n      <th>Salary</th>\n    </tr>\n  </thead>\n  <tbody>\n    <tr>\n      <th>0</th>\n      <td>1</td>\n      <td>I am a developer by profession</td>\n      <td>Independent contractor, freelancer, or self-em...</td>\n      <td>Slovakia</td>\n      <td>NaN</td>\n      <td>NaN</td>\n      <td>Secondary school (e.g. American high school, G...</td>\n      <td>18 - 24 years</td>\n      <td>Coding Bootcamp;Other online resources (ex: vi...</td>\n      <td>NaN</td>\n      <td>...</td>\n      <td>25-34 years old</td>\n      <td>Man</td>\n      <td>No</td>\n      <td>Straight / Heterosexual</td>\n      <td>White or of European descent</td>\n      <td>None of the above</td>\n      <td>None of the above</td>\n      <td>Appropriate in length</td>\n      <td>Easy</td>\n      <td>62268.0</td>\n    </tr>\n    <tr>\n      <th>9</th>\n      <td>10</td>\n      <td>I am a developer by profession</td>\n      <td>Employed full-time</td>\n      <td>Sweden</td>\n      <td>NaN</td>\n      <td>NaN</td>\n      <td>Master’s degree (M.A., M.S., M.Eng., MBA, etc.)</td>\n      <td>11 - 17 years</td>\n      <td>School</td>\n      <td>7</td>\n      <td>...</td>\n      <td>25-34 years old</td>\n      <td>Man</td>\n      <td>No</td>\n      <td>Straight / Heterosexual</td>\n      <td>White or of European descent</td>\n      <td>None of the above</td>\n      <td>None of the above</td>\n      <td>Appropriate in length</td>\n      <td>Neither easy nor difficult</td>\n      <td>51552.0</td>\n    </tr>\n    <tr>\n      <th>11</th>\n      <td>12</td>\n      <td>I am a developer by profession</td>\n      <td>Employed full-time</td>\n      <td>Spain</td>\n      <td>NaN</td>\n      <td>NaN</td>\n      <td>Bachelor’s degree (B.A., B.S., B.Eng., etc.)</td>\n      <td>11 - 17 years</td>\n      <td>Other online resources (ex: videos, blogs, etc...</td>\n      <td>12</td>\n      <td>...</td>\n      <td>25-34 years old</td>\n      <td>Man</td>\n      <td>No</td>\n      <td>Straight / Heterosexual</td>\n      <td>White or of European descent;Hispanic or Latin...</td>\n      <td>None of the above</td>\n      <td>None of the above</td>\n      <td>Too long</td>\n      <td>Easy</td>\n      <td>46482.0</td>\n    </tr>\n    <tr>\n      <th>12</th>\n      <td>13</td>\n      <td>I am a developer by profession</td>\n      <td>Employed full-time</td>\n      <td>Germany</td>\n      <td>NaN</td>\n      <td>NaN</td>\n      <td>Master’s degree (M.A., M.S., M.Eng., MBA, etc.)</td>\n      <td>11 - 17 years</td>\n      <td>Other (please specify):</td>\n      <td>15</td>\n      <td>...</td>\n      <td>25-34 years old</td>\n      <td>Man</td>\n      <td>No</td>\n      <td>Straight / Heterosexual</td>\n      <td>White or of European descent</td>\n      <td>None of the above</td>\n      <td>Prefer not to say</td>\n      <td>Appropriate in length</td>\n      <td>Easy</td>\n      <td>77290.0</td>\n    </tr>\n    <tr>\n      <th>16</th>\n      <td>17</td>\n      <td>I am a developer by profession</td>\n      <td>Employed full-time</td>\n      <td>Turkey</td>\n      <td>NaN</td>\n      <td>NaN</td>\n      <td>Bachelor’s degree (B.A., B.S., B.Eng., etc.)</td>\n      <td>5 - 10 years</td>\n      <td>School</td>\n      <td>6</td>\n      <td>...</td>\n      <td>25-34 years old</td>\n      <td>Man</td>\n      <td>No</td>\n      <td>NaN</td>\n      <td>Middle Eastern</td>\n      <td>NaN</td>\n      <td>NaN</td>\n      <td>Appropriate in length</td>\n      <td>Neither easy nor difficult</td>\n      <td>17748.0</td>\n    </tr>\n  </tbody>\n</table>\n<p>5 rows × 48 columns</p>\n</div>"
     },
     "execution_count": 1364,
     "metadata": {},
     "output_type": "execute_result"
    }
   ],
   "source": [
    "#Since Salary is our target variable, we remove rows where Salary is null(NaN)\n",
    "df = df[df['Salary'].notnull()]\n",
    "df.head()"
   ],
   "metadata": {
    "collapsed": false,
    "pycharm": {
     "name": "#%%\n"
    }
   }
  },
  {
   "cell_type": "markdown",
   "source": [
    "For our Salary Predictions we will use only the following columns: Employment, Country, EdLevel (Education Level), YearsCodePro (Years spent coding professionally), OrgSize (Organization size in terms of Number of Employees), Age, Gender, Ethnicity"
   ],
   "metadata": {
    "collapsed": false,
    "pycharm": {
     "name": "#%% md\n"
    }
   }
  },
  {
   "cell_type": "code",
   "execution_count": 1365,
   "outputs": [
    {
     "data": {
      "text/plain": "                                              Employment  \\\n0      Independent contractor, freelancer, or self-em...   \n9                                     Employed full-time   \n11                                    Employed full-time   \n12                                    Employed full-time   \n16                                    Employed full-time   \n...                                                  ...   \n83434                                 Employed full-time   \n83435  Independent contractor, freelancer, or self-em...   \n83436                                 Employed full-time   \n83437                                 Employed full-time   \n83438                                 Employed full-time   \n\n                        Country  \\\n0                      Slovakia   \n9                        Sweden   \n11                        Spain   \n12                      Germany   \n16                       Turkey   \n...                         ...   \n83434  United States of America   \n83435                     Benin   \n83436  United States of America   \n83437                    Canada   \n83438                    Brazil   \n\n                                                 EdLevel YearsCodePro  \\\n0      Secondary school (e.g. American high school, G...          NaN   \n9        Master’s degree (M.A., M.S., M.Eng., MBA, etc.)            4   \n11          Bachelor’s degree (B.A., B.S., B.Eng., etc.)            5   \n12       Master’s degree (M.A., M.S., M.Eng., MBA, etc.)            6   \n16          Bachelor’s degree (B.A., B.S., B.Eng., etc.)            2   \n...                                                  ...          ...   \n83434       Bachelor’s degree (B.A., B.S., B.Eng., etc.)            5   \n83435       Bachelor’s degree (B.A., B.S., B.Eng., etc.)            2   \n83436  Secondary school (e.g. American high school, G...            4   \n83437       Bachelor’s degree (B.A., B.S., B.Eng., etc.)            3   \n83438                 Professional degree (JD, MD, etc.)            4   \n\n                                                 OrgSize              Age  \\\n0                                     20 to 99 employees  25-34 years old   \n9                                     10 to 19 employees  25-34 years old   \n11                                    10 to 19 employees  25-34 years old   \n12                              1,000 to 4,999 employees  25-34 years old   \n16                                  100 to 499 employees  25-34 years old   \n...                                                  ...              ...   \n83434                                 20 to 99 employees  25-34 years old   \n83435  Just me - I am a freelancer, sole proprietor, ...  18-24 years old   \n83436                           10,000 or more employees  25-34 years old   \n83437                                 20 to 99 employees  25-34 years old   \n83438                                       I don’t know  18-24 years old   \n\n      Gender                                          Ethnicity    Salary  \n0        Man                       White or of European descent   62268.0  \n9        Man                       White or of European descent   51552.0  \n11       Man  White or of European descent;Hispanic or Latin...   46482.0  \n12       Man                       White or of European descent   77290.0  \n16       Man                                     Middle Eastern   17748.0  \n...      ...                                                ...       ...  \n83434    Man                       White or of European descent  160500.0  \n83435    Man                        Black or of African descent    3960.0  \n83436    Man                       White or of European descent   90000.0  \n83437    Man                       White or of European descent  816816.0  \n83438    Man                             Hispanic or Latino/a/x   21168.0  \n\n[46844 rows x 9 columns]",
      "text/html": "<div>\n<style scoped>\n    .dataframe tbody tr th:only-of-type {\n        vertical-align: middle;\n    }\n\n    .dataframe tbody tr th {\n        vertical-align: top;\n    }\n\n    .dataframe thead th {\n        text-align: right;\n    }\n</style>\n<table border=\"1\" class=\"dataframe\">\n  <thead>\n    <tr style=\"text-align: right;\">\n      <th></th>\n      <th>Employment</th>\n      <th>Country</th>\n      <th>EdLevel</th>\n      <th>YearsCodePro</th>\n      <th>OrgSize</th>\n      <th>Age</th>\n      <th>Gender</th>\n      <th>Ethnicity</th>\n      <th>Salary</th>\n    </tr>\n  </thead>\n  <tbody>\n    <tr>\n      <th>0</th>\n      <td>Independent contractor, freelancer, or self-em...</td>\n      <td>Slovakia</td>\n      <td>Secondary school (e.g. American high school, G...</td>\n      <td>NaN</td>\n      <td>20 to 99 employees</td>\n      <td>25-34 years old</td>\n      <td>Man</td>\n      <td>White or of European descent</td>\n      <td>62268.0</td>\n    </tr>\n    <tr>\n      <th>9</th>\n      <td>Employed full-time</td>\n      <td>Sweden</td>\n      <td>Master’s degree (M.A., M.S., M.Eng., MBA, etc.)</td>\n      <td>4</td>\n      <td>10 to 19 employees</td>\n      <td>25-34 years old</td>\n      <td>Man</td>\n      <td>White or of European descent</td>\n      <td>51552.0</td>\n    </tr>\n    <tr>\n      <th>11</th>\n      <td>Employed full-time</td>\n      <td>Spain</td>\n      <td>Bachelor’s degree (B.A., B.S., B.Eng., etc.)</td>\n      <td>5</td>\n      <td>10 to 19 employees</td>\n      <td>25-34 years old</td>\n      <td>Man</td>\n      <td>White or of European descent;Hispanic or Latin...</td>\n      <td>46482.0</td>\n    </tr>\n    <tr>\n      <th>12</th>\n      <td>Employed full-time</td>\n      <td>Germany</td>\n      <td>Master’s degree (M.A., M.S., M.Eng., MBA, etc.)</td>\n      <td>6</td>\n      <td>1,000 to 4,999 employees</td>\n      <td>25-34 years old</td>\n      <td>Man</td>\n      <td>White or of European descent</td>\n      <td>77290.0</td>\n    </tr>\n    <tr>\n      <th>16</th>\n      <td>Employed full-time</td>\n      <td>Turkey</td>\n      <td>Bachelor’s degree (B.A., B.S., B.Eng., etc.)</td>\n      <td>2</td>\n      <td>100 to 499 employees</td>\n      <td>25-34 years old</td>\n      <td>Man</td>\n      <td>Middle Eastern</td>\n      <td>17748.0</td>\n    </tr>\n    <tr>\n      <th>...</th>\n      <td>...</td>\n      <td>...</td>\n      <td>...</td>\n      <td>...</td>\n      <td>...</td>\n      <td>...</td>\n      <td>...</td>\n      <td>...</td>\n      <td>...</td>\n    </tr>\n    <tr>\n      <th>83434</th>\n      <td>Employed full-time</td>\n      <td>United States of America</td>\n      <td>Bachelor’s degree (B.A., B.S., B.Eng., etc.)</td>\n      <td>5</td>\n      <td>20 to 99 employees</td>\n      <td>25-34 years old</td>\n      <td>Man</td>\n      <td>White or of European descent</td>\n      <td>160500.0</td>\n    </tr>\n    <tr>\n      <th>83435</th>\n      <td>Independent contractor, freelancer, or self-em...</td>\n      <td>Benin</td>\n      <td>Bachelor’s degree (B.A., B.S., B.Eng., etc.)</td>\n      <td>2</td>\n      <td>Just me - I am a freelancer, sole proprietor, ...</td>\n      <td>18-24 years old</td>\n      <td>Man</td>\n      <td>Black or of African descent</td>\n      <td>3960.0</td>\n    </tr>\n    <tr>\n      <th>83436</th>\n      <td>Employed full-time</td>\n      <td>United States of America</td>\n      <td>Secondary school (e.g. American high school, G...</td>\n      <td>4</td>\n      <td>10,000 or more employees</td>\n      <td>25-34 years old</td>\n      <td>Man</td>\n      <td>White or of European descent</td>\n      <td>90000.0</td>\n    </tr>\n    <tr>\n      <th>83437</th>\n      <td>Employed full-time</td>\n      <td>Canada</td>\n      <td>Bachelor’s degree (B.A., B.S., B.Eng., etc.)</td>\n      <td>3</td>\n      <td>20 to 99 employees</td>\n      <td>25-34 years old</td>\n      <td>Man</td>\n      <td>White or of European descent</td>\n      <td>816816.0</td>\n    </tr>\n    <tr>\n      <th>83438</th>\n      <td>Employed full-time</td>\n      <td>Brazil</td>\n      <td>Professional degree (JD, MD, etc.)</td>\n      <td>4</td>\n      <td>I don’t know</td>\n      <td>18-24 years old</td>\n      <td>Man</td>\n      <td>Hispanic or Latino/a/x</td>\n      <td>21168.0</td>\n    </tr>\n  </tbody>\n</table>\n<p>46844 rows × 9 columns</p>\n</div>"
     },
     "execution_count": 1365,
     "metadata": {},
     "output_type": "execute_result"
    }
   ],
   "source": [
    "df = df[['Employment', 'Country', 'EdLevel', 'YearsCodePro', 'OrgSize', 'Age', 'Gender', 'Ethnicity', 'Salary']]\n",
    "df"
   ],
   "metadata": {
    "collapsed": false,
    "pycharm": {
     "name": "#%%\n"
    }
   }
  },
  {
   "cell_type": "code",
   "execution_count": 1366,
   "outputs": [
    {
     "data": {
      "text/plain": "                        Country  \\\n9                        Sweden   \n11                        Spain   \n12                      Germany   \n16                       Turkey   \n17                       Canada   \n...                         ...   \n83432                    Canada   \n83434  United States of America   \n83436  United States of America   \n83437                    Canada   \n83438                    Brazil   \n\n                                                 EdLevel      YearsCodePro  \\\n9        Master’s degree (M.A., M.S., M.Eng., MBA, etc.)                 4   \n11          Bachelor’s degree (B.A., B.S., B.Eng., etc.)                 5   \n12       Master’s degree (M.A., M.S., M.Eng., MBA, etc.)                 6   \n16          Bachelor’s degree (B.A., B.S., B.Eng., etc.)                 2   \n17          Bachelor’s degree (B.A., B.S., B.Eng., etc.)                 6   \n...                                                  ...               ...   \n83432       Bachelor’s degree (B.A., B.S., B.Eng., etc.)  Less than 1 year   \n83434       Bachelor’s degree (B.A., B.S., B.Eng., etc.)                 5   \n83436  Secondary school (e.g. American high school, G...                 4   \n83437       Bachelor’s degree (B.A., B.S., B.Eng., etc.)                 3   \n83438                 Professional degree (JD, MD, etc.)                 4   \n\n                        OrgSize              Age Gender  \\\n9            10 to 19 employees  25-34 years old    Man   \n11           10 to 19 employees  25-34 years old    Man   \n12     1,000 to 4,999 employees  25-34 years old    Man   \n16         100 to 499 employees  25-34 years old    Man   \n17         500 to 999 employees  25-34 years old    Man   \n...                         ...              ...    ...   \n83432  10,000 or more employees  18-24 years old  Woman   \n83434        20 to 99 employees  25-34 years old    Man   \n83436  10,000 or more employees  25-34 years old    Man   \n83437        20 to 99 employees  25-34 years old    Man   \n83438              I don’t know  18-24 years old    Man   \n\n                                               Ethnicity    Salary  \n9                           White or of European descent   51552.0  \n11     White or of European descent;Hispanic or Latin...   46482.0  \n12                          White or of European descent   77290.0  \n16                                        Middle Eastern   17748.0  \n17                          White or of European descent   46135.0  \n...                                                  ...       ...  \n83432                                         East Asian   80169.0  \n83434                       White or of European descent  160500.0  \n83436                       White or of European descent   90000.0  \n83437                       White or of European descent  816816.0  \n83438                             Hispanic or Latino/a/x   21168.0  \n\n[40627 rows x 8 columns]",
      "text/html": "<div>\n<style scoped>\n    .dataframe tbody tr th:only-of-type {\n        vertical-align: middle;\n    }\n\n    .dataframe tbody tr th {\n        vertical-align: top;\n    }\n\n    .dataframe thead th {\n        text-align: right;\n    }\n</style>\n<table border=\"1\" class=\"dataframe\">\n  <thead>\n    <tr style=\"text-align: right;\">\n      <th></th>\n      <th>Country</th>\n      <th>EdLevel</th>\n      <th>YearsCodePro</th>\n      <th>OrgSize</th>\n      <th>Age</th>\n      <th>Gender</th>\n      <th>Ethnicity</th>\n      <th>Salary</th>\n    </tr>\n  </thead>\n  <tbody>\n    <tr>\n      <th>9</th>\n      <td>Sweden</td>\n      <td>Master’s degree (M.A., M.S., M.Eng., MBA, etc.)</td>\n      <td>4</td>\n      <td>10 to 19 employees</td>\n      <td>25-34 years old</td>\n      <td>Man</td>\n      <td>White or of European descent</td>\n      <td>51552.0</td>\n    </tr>\n    <tr>\n      <th>11</th>\n      <td>Spain</td>\n      <td>Bachelor’s degree (B.A., B.S., B.Eng., etc.)</td>\n      <td>5</td>\n      <td>10 to 19 employees</td>\n      <td>25-34 years old</td>\n      <td>Man</td>\n      <td>White or of European descent;Hispanic or Latin...</td>\n      <td>46482.0</td>\n    </tr>\n    <tr>\n      <th>12</th>\n      <td>Germany</td>\n      <td>Master’s degree (M.A., M.S., M.Eng., MBA, etc.)</td>\n      <td>6</td>\n      <td>1,000 to 4,999 employees</td>\n      <td>25-34 years old</td>\n      <td>Man</td>\n      <td>White or of European descent</td>\n      <td>77290.0</td>\n    </tr>\n    <tr>\n      <th>16</th>\n      <td>Turkey</td>\n      <td>Bachelor’s degree (B.A., B.S., B.Eng., etc.)</td>\n      <td>2</td>\n      <td>100 to 499 employees</td>\n      <td>25-34 years old</td>\n      <td>Man</td>\n      <td>Middle Eastern</td>\n      <td>17748.0</td>\n    </tr>\n    <tr>\n      <th>17</th>\n      <td>Canada</td>\n      <td>Bachelor’s degree (B.A., B.S., B.Eng., etc.)</td>\n      <td>6</td>\n      <td>500 to 999 employees</td>\n      <td>25-34 years old</td>\n      <td>Man</td>\n      <td>White or of European descent</td>\n      <td>46135.0</td>\n    </tr>\n    <tr>\n      <th>...</th>\n      <td>...</td>\n      <td>...</td>\n      <td>...</td>\n      <td>...</td>\n      <td>...</td>\n      <td>...</td>\n      <td>...</td>\n      <td>...</td>\n    </tr>\n    <tr>\n      <th>83432</th>\n      <td>Canada</td>\n      <td>Bachelor’s degree (B.A., B.S., B.Eng., etc.)</td>\n      <td>Less than 1 year</td>\n      <td>10,000 or more employees</td>\n      <td>18-24 years old</td>\n      <td>Woman</td>\n      <td>East Asian</td>\n      <td>80169.0</td>\n    </tr>\n    <tr>\n      <th>83434</th>\n      <td>United States of America</td>\n      <td>Bachelor’s degree (B.A., B.S., B.Eng., etc.)</td>\n      <td>5</td>\n      <td>20 to 99 employees</td>\n      <td>25-34 years old</td>\n      <td>Man</td>\n      <td>White or of European descent</td>\n      <td>160500.0</td>\n    </tr>\n    <tr>\n      <th>83436</th>\n      <td>United States of America</td>\n      <td>Secondary school (e.g. American high school, G...</td>\n      <td>4</td>\n      <td>10,000 or more employees</td>\n      <td>25-34 years old</td>\n      <td>Man</td>\n      <td>White or of European descent</td>\n      <td>90000.0</td>\n    </tr>\n    <tr>\n      <th>83437</th>\n      <td>Canada</td>\n      <td>Bachelor’s degree (B.A., B.S., B.Eng., etc.)</td>\n      <td>3</td>\n      <td>20 to 99 employees</td>\n      <td>25-34 years old</td>\n      <td>Man</td>\n      <td>White or of European descent</td>\n      <td>816816.0</td>\n    </tr>\n    <tr>\n      <th>83438</th>\n      <td>Brazil</td>\n      <td>Professional degree (JD, MD, etc.)</td>\n      <td>4</td>\n      <td>I don’t know</td>\n      <td>18-24 years old</td>\n      <td>Man</td>\n      <td>Hispanic or Latino/a/x</td>\n      <td>21168.0</td>\n    </tr>\n  </tbody>\n</table>\n<p>40627 rows × 8 columns</p>\n</div>"
     },
     "execution_count": 1366,
     "metadata": {},
     "output_type": "execute_result"
    }
   ],
   "source": [
    "# We require the data of only Employed, full-time workers\n",
    "df = df[df['Employment'] == 'Employed full-time']\n",
    "df = df.drop('Employment', axis = 1)\n",
    "df"
   ],
   "metadata": {
    "collapsed": false,
    "pycharm": {
     "name": "#%%\n"
    }
   }
  },
  {
   "cell_type": "code",
   "execution_count": 1367,
   "outputs": [
    {
     "data": {
      "text/plain": "Country           0\nEdLevel          19\nYearsCodePro    399\nOrgSize          41\nAge              88\nGender          142\nEthnicity       768\nSalary            0\ndtype: int64"
     },
     "execution_count": 1367,
     "metadata": {},
     "output_type": "execute_result"
    }
   ],
   "source": [
    "df.isnull().sum()"
   ],
   "metadata": {
    "collapsed": false,
    "pycharm": {
     "name": "#%%\n"
    }
   }
  },
  {
   "cell_type": "code",
   "execution_count": 1368,
   "outputs": [
    {
     "data": {
      "text/plain": "United States of America                                9234\nIndia                                                   3464\nGermany                                                 2778\nUnited Kingdom of Great Britain and Northern Ireland    2617\nCanada                                                  1560\n                                                        ... \nGuinea                                                     1\nDominica                                                   1\nSaint Kitts and Nevis                                      1\nMonaco                                                     1\nBurundi                                                    1\nName: Country, Length: 166, dtype: int64"
     },
     "execution_count": 1368,
     "metadata": {},
     "output_type": "execute_result"
    }
   ],
   "source": [
    "# We will now do some preliminary cleaning.\n",
    "# First look at the country data and extract only those countries where the developers are more than 400 while marking the rest as 'Others'.\n",
    "df['Country'].value_counts()"
   ],
   "metadata": {
    "collapsed": false,
    "pycharm": {
     "name": "#%%\n"
    }
   }
  },
  {
   "cell_type": "code",
   "execution_count": 1369,
   "outputs": [],
   "source": [
    "def shorten_categories(categories, cutoff):\n",
    "    categorical_map = {}\n",
    "    for i in range(len(categories)):\n",
    "        if categories.values[i] >= cutoff:\n",
    "            categorical_map[categories.index[i]] = categories.index[i]\n",
    "        else:\n",
    "            categorical_map[categories.index[i]] = 'Other'\n",
    "    return categorical_map"
   ],
   "metadata": {
    "collapsed": false,
    "pycharm": {
     "name": "#%%\n"
    }
   }
  },
  {
   "cell_type": "code",
   "execution_count": 1370,
   "outputs": [
    {
     "data": {
      "text/plain": "Other                                                   10855\nUnited States of America                                 9234\nIndia                                                    3464\nGermany                                                  2778\nUnited Kingdom of Great Britain and Northern Ireland     2617\nCanada                                                   1560\nFrance                                                   1411\nBrazil                                                   1351\nSpain                                                     897\nNetherlands                                               841\nAustralia                                                 827\nPoland                                                    782\nItaly                                                     771\nRussian Federation                                        747\nSweden                                                    743\nTurkey                                                    472\nSwitzerland                                               442\nIsrael                                                    431\nNorway                                                    404\nName: Country, dtype: int64"
     },
     "execution_count": 1370,
     "metadata": {},
     "output_type": "execute_result"
    }
   ],
   "source": [
    "country_map = shorten_categories(df.Country.value_counts(), 400)\n",
    "df['Country'] = df['Country'].map(country_map)\n",
    "df.Country.value_counts()"
   ],
   "metadata": {
    "collapsed": false,
    "pycharm": {
     "name": "#%%\n"
    }
   }
  },
  {
   "cell_type": "code",
   "execution_count": 1371,
   "outputs": [
    {
     "data": {
      "text/plain": "0"
     },
     "execution_count": 1371,
     "metadata": {},
     "output_type": "execute_result"
    }
   ],
   "source": [
    "#Since edlevel ha sonyl 19 missing values, we will use univariate imputation by utilizing the mode.\n",
    "df['EdLevel'] = df['EdLevel'].fillna(df['EdLevel'].mode()[0])\n",
    "df['EdLevel'].isnull().sum()"
   ],
   "metadata": {
    "collapsed": false,
    "pycharm": {
     "name": "#%%\n"
    }
   }
  },
  {
   "cell_type": "code",
   "execution_count": 1372,
   "outputs": [
    {
     "data": {
      "text/plain": "Bachelor’s degree        20083\nMaster’s degree          10385\nLess than a Bachelors     7981\nPost grad                 2178\nName: EdLevel, dtype: int64"
     },
     "execution_count": 1372,
     "metadata": {},
     "output_type": "execute_result"
    }
   ],
   "source": [
    "def clean_education(x):\n",
    "    if 'Bachelor’s degree' in x:\n",
    "        return 'Bachelor’s degree'\n",
    "    if 'Master’s degree' in x:\n",
    "        return 'Master’s degree'\n",
    "    if 'Professional degree' in x or 'Other doctoral' in x:\n",
    "        return 'Post grad'\n",
    "    return 'Less than a Bachelors'\n",
    "\n",
    "df['EdLevel'] = df['EdLevel'].apply(clean_education)\n",
    "df['EdLevel'].value_counts()"
   ],
   "metadata": {
    "collapsed": false,
    "pycharm": {
     "name": "#%%\n"
    }
   }
  },
  {
   "cell_type": "code",
   "execution_count": 1373,
   "outputs": [
    {
     "data": {
      "text/plain": "9      4\n11     5\n12     6\n16     2\n17     6\n23     2\n24    18\n26     5\n27    21\n29    16\nName: YearsCodePro, dtype: object"
     },
     "execution_count": 1373,
     "metadata": {},
     "output_type": "execute_result"
    }
   ],
   "source": [
    "# Now we will explore the YearsCodePro column.\n",
    "df['YearsCodePro'].head(10)"
   ],
   "metadata": {
    "collapsed": false,
    "pycharm": {
     "name": "#%%\n"
    }
   }
  },
  {
   "cell_type": "code",
   "execution_count": 1374,
   "outputs": [
    {
     "data": {
      "text/plain": "array(['4', '5', '6', '2', '18', '21', '16', '10', 'Less than 1 year',\n       '15', '3', '1', '12', '8', nan, '17', '14', '7', '26', '34', '11',\n       '25', '24', '22', '13', '9', '20', '23', '39', '27', '35', '30',\n       '19', '33', '28', '37', '43', '40', '29', '38', '31', '45', '42',\n       '46', '32', '36', '47', '44', '41', 'More than 50 years', '50',\n       '49', '48'], dtype=object)"
     },
     "execution_count": 1374,
     "metadata": {},
     "output_type": "execute_result"
    }
   ],
   "source": [
    "df['YearsCodePro'].unique()"
   ],
   "metadata": {
    "collapsed": false,
    "pycharm": {
     "name": "#%%\n"
    }
   }
  },
  {
   "cell_type": "code",
   "execution_count": 1375,
   "outputs": [
    {
     "data": {
      "text/plain": "array([ 4. ,  5. ,  6. ,  2. , 18. , 21. , 16. , 10. ,  0.5, 15. ,  3. ,\n        1. , 12. ,  8. ,  nan, 17. , 14. ,  7. , 26. , 34. , 11. , 25. ,\n       24. , 22. , 13. ,  9. , 20. , 23. , 39. , 27. , 35. , 30. , 19. ,\n       33. , 28. , 37. , 43. , 40. , 29. , 38. , 31. , 45. , 42. , 46. ,\n       32. , 36. , 47. , 44. , 41. , 50. , 49. , 48. ])"
     },
     "execution_count": 1375,
     "metadata": {},
     "output_type": "execute_result"
    }
   ],
   "source": [
    "# We need to convert two of the entries 'Less than 1 year' and 'More than 50 years' into numeric data.\n",
    "def clean_experience(column):\n",
    "    if column == 'More than 50 years':\n",
    "        return 50\n",
    "    if column == 'Less than 1 year':\n",
    "        return 0.5\n",
    "    return float(column)\n",
    "\n",
    "df['YearsCodePro'] = df['YearsCodePro'].apply(clean_experience)\n",
    "df['YearsCodePro'].unique()"
   ],
   "metadata": {
    "collapsed": false,
    "pycharm": {
     "name": "#%%\n"
    }
   }
  },
  {
   "cell_type": "code",
   "execution_count": 1376,
   "outputs": [
    {
     "data": {
      "text/plain": "array(['10 to 19 employees', '1,000 to 4,999 employees',\n       '100 to 499 employees', '500 to 999 employees',\n       '5,000 to 9,999 employees', '2 to 9 employees',\n       '20 to 99 employees', '10,000 or more employees',\n       'Just me - I am a freelancer, sole proprietor, etc.',\n       'I don’t know', nan], dtype=object)"
     },
     "execution_count": 1376,
     "metadata": {},
     "output_type": "execute_result"
    }
   ],
   "source": [
    "df['OrgSize'].unique()"
   ],
   "metadata": {
    "collapsed": false,
    "pycharm": {
     "name": "#%%\n"
    }
   }
  },
  {
   "cell_type": "code",
   "execution_count": 1377,
   "outputs": [
    {
     "data": {
      "text/plain": "20 to 99 employees                                    9140\n100 to 499 employees                                  7959\n10,000 or more employees                              5987\n1,000 to 4,999 employees                              4862\n10 to 19 employees                                    3695\n2 to 9 employees                                      3401\n500 to 999 employees                                  2907\n5,000 to 9,999 employees                              1777\nI don’t know                                           672\nJust me - I am a freelancer, sole proprietor, etc.     186\nName: OrgSize, dtype: int64"
     },
     "execution_count": 1377,
     "metadata": {},
     "output_type": "execute_result"
    }
   ],
   "source": [
    "df['OrgSize'].value_counts()"
   ],
   "metadata": {
    "collapsed": false,
    "pycharm": {
     "name": "#%%\n"
    }
   }
  },
  {
   "cell_type": "code",
   "execution_count": 1378,
   "outputs": [
    {
     "data": {
      "text/plain": "array(['10 to 19 employees', '1,000 to 4,999 employees',\n       '100 to 499 employees', '500 to 999 employees',\n       '5,000 to 9,999 employees', '2 to 9 employees',\n       '20 to 99 employees', '10,000 or more employees', 'Other', nan],\n      dtype=object)"
     },
     "execution_count": 1378,
     "metadata": {},
     "output_type": "execute_result"
    }
   ],
   "source": [
    "df['OrgSize'] = df['OrgSize'].replace(to_replace=['I don’t know', 'Just me - I am a freelancer, sole proprietor, etc.'], value='Other')\n",
    "df['OrgSize'].unique()"
   ],
   "metadata": {
    "collapsed": false,
    "pycharm": {
     "name": "#%%\n"
    }
   }
  },
  {
   "cell_type": "code",
   "execution_count": 1379,
   "outputs": [
    {
     "data": {
      "text/plain": "25-34 years old       20898\n35-44 years old        9437\n18-24 years old        6244\n45-54 years old        2917\n55-64 years old         863\n65 years or older        91\nPrefer not to say        50\nUnder 18 years old       39\nName: Age, dtype: int64"
     },
     "execution_count": 1379,
     "metadata": {},
     "output_type": "execute_result"
    }
   ],
   "source": [
    "# Now, we will deal with the Age column\n",
    "df['Age'].value_counts()"
   ],
   "metadata": {
    "collapsed": false,
    "pycharm": {
     "name": "#%%\n"
    }
   }
  },
  {
   "cell_type": "code",
   "execution_count": 1380,
   "outputs": [],
   "source": [
    "# We will classify the values '65 Years or older', 'Prefer not to say' as 'Others' and remove 'Under 18 years old' given that it is not representative of real -world situations.\n",
    "df.drop(df.index[df['Age'] == 'Under 18 years old'], inplace=True)\n",
    "df['Age'] = df['Age'].replace(to_replace = ['65 years or older', 'Prefer not to say'], value = 'Other')"
   ],
   "metadata": {
    "collapsed": false,
    "pycharm": {
     "name": "#%%\n"
    }
   }
  },
  {
   "cell_type": "code",
   "execution_count": 1381,
   "outputs": [
    {
     "data": {
      "text/plain": "array(['25-34 years old', '35-44 years old', '45-54 years old',\n       '18-24 years old', '55-64 years old', 'Other', nan], dtype=object)"
     },
     "execution_count": 1381,
     "metadata": {},
     "output_type": "execute_result"
    }
   ],
   "source": [
    "df['Age'].unique()"
   ],
   "metadata": {
    "collapsed": false,
    "pycharm": {
     "name": "#%%\n"
    }
   }
  },
  {
   "cell_type": "code",
   "execution_count": 1382,
   "outputs": [
    {
     "data": {
      "text/plain": "Man                                                                                   37466\nWoman                                                                                  1869\nPrefer not to say                                                                       385\nNon-binary, genderqueer, or gender non-conforming                                       288\nMan;Non-binary, genderqueer, or gender non-conforming                                   129\nOr, in your own words:                                                                  107\nMan;Or, in your own words:                                                               93\nWoman;Non-binary, genderqueer, or gender non-conforming                                  70\nMan;Woman                                                                                 9\nNon-binary, genderqueer, or gender non-conforming;Or, in your own words:                  6\nMan;Woman;Non-binary, genderqueer, or gender non-conforming                               5\nMan;Woman;Non-binary, genderqueer, or gender non-conforming;Or, in your own words:        5\nWoman;Non-binary, genderqueer, or gender non-conforming;Or, in your own words:            5\nWoman;Or, in your own words:                                                              5\nMan;Non-binary, genderqueer, or gender non-conforming;Or, in your own words:              3\nMan;Woman;Or, in your own words:                                                          1\nName: Gender, dtype: int64"
     },
     "execution_count": 1382,
     "metadata": {},
     "output_type": "execute_result"
    }
   ],
   "source": [
    "df['Gender'].value_counts()"
   ],
   "metadata": {
    "collapsed": false,
    "pycharm": {
     "name": "#%%\n"
    }
   }
  },
  {
   "cell_type": "code",
   "execution_count": 1383,
   "outputs": [
    {
     "data": {
      "text/plain": "Man                                                  37475\nWoman                                                 1869\nNon-binary, genderqueer, or gender non-conforming     1102\nName: Gender, dtype: int64"
     },
     "execution_count": 1383,
     "metadata": {},
     "output_type": "execute_result"
    }
   ],
   "source": [
    "# Given that 'Prefer not to say' is less than 2% of the data we will safely assume that it falls under Non-binary, genderqueer, or gender non-confirming. Furthermore, we will set the category 'Man;Woman' to 'Man' given that it is the most occurring category. We will set all the other categories to Non-binary, genderqueer, or gender non-confirming.\n",
    "df['Gender'] = df['Gender'].replace(to_replace='Man;Woman', value = 'Man')\n",
    "df['Gender'] = df['Gender'].replace(to_replace=['Prefer not to say', 'Man;Non-binary, genderqueer, or gender non-conforming', 'Or, in your own words:', 'Man;Or, in your own words:', 'Woman;Non-binary, genderqueer, or gender non-conforming', 'Non-binary, genderqueer, or gender non-conforming;Or, in your own words:', 'Man;Woman;Non-binary, genderqueer, or gender non-conforming', 'Man;Woman;Non-binary, genderqueer, or gender non-conforming;Or, in your own words:', 'Woman;Or, in your own words:', 'Man;Non-binary, genderqueer, or gender non-conforming;Or, in your own words:', 'Man;Woman;Or, in your own words:', 'Woman;Non-binary, genderqueer, or gender non-conforming;Or, in your own words:'], value = 'Non-binary, genderqueer, or gender non-conforming')\n",
    "df['Gender'].value_counts()"
   ],
   "metadata": {
    "collapsed": false,
    "pycharm": {
     "name": "#%%\n"
    }
   }
  },
  {
   "cell_type": "code",
   "execution_count": 1384,
   "outputs": [
    {
     "data": {
      "text/plain": "White or of European descent                                                                                    24398\nSouth Asian                                                                                                      3294\nHispanic or Latino/a/x                                                                                           2110\nSoutheast Asian                                                                                                  1298\nMiddle Eastern                                                                                                   1207\n                                                                                                                ...  \nI don't know;Middle Eastern;Or, in your own words:                                                                  1\nMultiracial;South Asian;Hispanic or Latino/a/x;Biracial                                                             1\nI don't know;Hispanic or Latino/a/x;Biracial                                                                        1\nWhite or of European descent;I don't know;Multiracial;Hispanic or Latino/a/x;Biracial;Or, in your own words:        1\nSoutheast Asian;Hispanic or Latino/a/x;East Asian;Biracial                                                          1\nName: Ethnicity, Length: 247, dtype: int64"
     },
     "execution_count": 1384,
     "metadata": {},
     "output_type": "execute_result"
    }
   ],
   "source": [
    "#We will now deal with ethnicity\n",
    "df['Ethnicity'].value_counts()"
   ],
   "metadata": {
    "collapsed": false,
    "pycharm": {
     "name": "#%%\n"
    }
   }
  },
  {
   "cell_type": "code",
   "execution_count": 1385,
   "outputs": [
    {
     "data": {
      "text/plain": "White or of European descent                           24398\nSouth Asian                                             3294\nHispanic or Latino/a/x                                  2110\nOther                                                   1879\nSoutheast Asian                                         1298\nMiddle Eastern                                          1207\nEast Asian                                              1194\nPrefer not to say                                        963\nOr, in your own words:                                   778\nBlack or of African descent                              766\nWhite or of European descent;Hispanic or Latino/a/x      732\nI don't know                                             698\nWhite or of European descent;Middle Eastern              295\nMultiracial                                              208\nName: Ethnicity, dtype: int64"
     },
     "execution_count": 1385,
     "metadata": {},
     "output_type": "execute_result"
    }
   ],
   "source": [
    "# Filter the ethnicity column based on values that are above 200 and set the rest to 'Other'\n",
    "ethnicity_map = shorten_categories(df.Ethnicity.value_counts(), 200)\n",
    "df['Ethnicity'] = df['Ethnicity'].map(ethnicity_map)\n",
    "df.Ethnicity.value_counts()"
   ],
   "metadata": {
    "collapsed": false,
    "pycharm": {
     "name": "#%%\n"
    }
   }
  },
  {
   "cell_type": "code",
   "execution_count": 1386,
   "outputs": [
    {
     "data": {
      "text/plain": "White or of European descent    24398\nOther                            5553\nSouth Asian                      3294\nHispanic or Latino/a/x           2110\nSoutheast Asian                  1298\nMiddle Eastern                   1207\nEast Asian                       1194\nBlack or of African descent       766\nName: Ethnicity, dtype: int64"
     },
     "execution_count": 1386,
     "metadata": {},
     "output_type": "execute_result"
    }
   ],
   "source": [
    "# We will keep the categories that are above 200, and set a few more categories that do not convey much information to 'Other'\n",
    "df['Ethnicity'] = df['Ethnicity'].replace(to_replace=['Prefer not to say', 'Or, in your own words:', 'White or of European descent;Hispanic or Latino/a/x', 'I don\\'t know', 'White or of European descent;Middle Eastern', 'Multiracial'], value='Other')\n",
    "df.Ethnicity.value_counts()"
   ],
   "metadata": {
    "collapsed": false,
    "pycharm": {
     "name": "#%%\n"
    }
   }
  },
  {
   "cell_type": "code",
   "execution_count": 1387,
   "outputs": [
    {
     "data": {
      "text/plain": "    Country            EdLevel  YearsCodePro                   OrgSize  \\\n9    Sweden    Master’s degree           4.0        10 to 19 employees   \n11    Spain  Bachelor’s degree           5.0        10 to 19 employees   \n12  Germany    Master’s degree           6.0  1,000 to 4,999 employees   \n16   Turkey  Bachelor’s degree           2.0      100 to 499 employees   \n17   Canada  Bachelor’s degree           6.0      500 to 999 employees   \n\n                Age Gender                     Ethnicity   Salary  \n9   25-34 years old    Man  White or of European descent  51552.0  \n11  25-34 years old    Man                         Other  46482.0  \n12  25-34 years old    Man  White or of European descent  77290.0  \n16  25-34 years old    Man                Middle Eastern  17748.0  \n17  25-34 years old    Man  White or of European descent  46135.0  ",
      "text/html": "<div>\n<style scoped>\n    .dataframe tbody tr th:only-of-type {\n        vertical-align: middle;\n    }\n\n    .dataframe tbody tr th {\n        vertical-align: top;\n    }\n\n    .dataframe thead th {\n        text-align: right;\n    }\n</style>\n<table border=\"1\" class=\"dataframe\">\n  <thead>\n    <tr style=\"text-align: right;\">\n      <th></th>\n      <th>Country</th>\n      <th>EdLevel</th>\n      <th>YearsCodePro</th>\n      <th>OrgSize</th>\n      <th>Age</th>\n      <th>Gender</th>\n      <th>Ethnicity</th>\n      <th>Salary</th>\n    </tr>\n  </thead>\n  <tbody>\n    <tr>\n      <th>9</th>\n      <td>Sweden</td>\n      <td>Master’s degree</td>\n      <td>4.0</td>\n      <td>10 to 19 employees</td>\n      <td>25-34 years old</td>\n      <td>Man</td>\n      <td>White or of European descent</td>\n      <td>51552.0</td>\n    </tr>\n    <tr>\n      <th>11</th>\n      <td>Spain</td>\n      <td>Bachelor’s degree</td>\n      <td>5.0</td>\n      <td>10 to 19 employees</td>\n      <td>25-34 years old</td>\n      <td>Man</td>\n      <td>Other</td>\n      <td>46482.0</td>\n    </tr>\n    <tr>\n      <th>12</th>\n      <td>Germany</td>\n      <td>Master’s degree</td>\n      <td>6.0</td>\n      <td>1,000 to 4,999 employees</td>\n      <td>25-34 years old</td>\n      <td>Man</td>\n      <td>White or of European descent</td>\n      <td>77290.0</td>\n    </tr>\n    <tr>\n      <th>16</th>\n      <td>Turkey</td>\n      <td>Bachelor’s degree</td>\n      <td>2.0</td>\n      <td>100 to 499 employees</td>\n      <td>25-34 years old</td>\n      <td>Man</td>\n      <td>Middle Eastern</td>\n      <td>17748.0</td>\n    </tr>\n    <tr>\n      <th>17</th>\n      <td>Canada</td>\n      <td>Bachelor’s degree</td>\n      <td>6.0</td>\n      <td>500 to 999 employees</td>\n      <td>25-34 years old</td>\n      <td>Man</td>\n      <td>White or of European descent</td>\n      <td>46135.0</td>\n    </tr>\n  </tbody>\n</table>\n</div>"
     },
     "execution_count": 1387,
     "metadata": {},
     "output_type": "execute_result"
    }
   ],
   "source": [
    "df.head()"
   ],
   "metadata": {
    "collapsed": false,
    "pycharm": {
     "name": "#%%\n"
    }
   }
  },
  {
   "cell_type": "code",
   "execution_count": 1388,
   "outputs": [
    {
     "name": "stderr",
     "output_type": "stream",
     "text": [
      "/Users/jebranirshad/opt/anaconda3/lib/python3.8/site-packages/seaborn/distributions.py:2619: FutureWarning: `distplot` is a deprecated function and will be removed in a future version. Please adapt your code to use either `displot` (a figure-level function with similar flexibility) or `histplot` (an axes-level function for histograms).\n",
      "  warnings.warn(msg, FutureWarning)\n"
     ]
    },
    {
     "data": {
      "text/plain": "<AxesSubplot:xlabel='Salary', ylabel='Density'>"
     },
     "execution_count": 1388,
     "metadata": {},
     "output_type": "execute_result"
    },
    {
     "data": {
      "text/plain": "<Figure size 432x288 with 1 Axes>",
      "image/png": "[encoded data removed]"
     },
     "metadata": {},
     "output_type": "display_data"
    }
   ],
   "source": [
    "# Before we continue, we must check for outliers in our salary data\n",
    "sns.distplot(df['Salary'])"
   ],
   "metadata": {
    "collapsed": false,
    "pycharm": {
     "name": "#%%\n"
    }
   }
  },
  {
   "cell_type": "code",
   "execution_count": 1389,
   "outputs": [
    {
     "name": "stderr",
     "output_type": "stream",
     "text": [
      "/Users/jebranirshad/opt/anaconda3/lib/python3.8/site-packages/seaborn/distributions.py:2619: FutureWarning: `distplot` is a deprecated function and will be removed in a future version. Please adapt your code to use either `displot` (a figure-level function with similar flexibility) or `histplot` (an axes-level function for histograms).\n",
      "  warnings.warn(msg, FutureWarning)\n"
     ]
    },
    {
     "data": {
      "text/plain": "<AxesSubplot:xlabel='Salary', ylabel='Density'>"
     },
     "execution_count": 1389,
     "metadata": {},
     "output_type": "execute_result"
    },
    {
     "data": {
      "text/plain": "<Figure size 432x288 with 1 Axes>",
      "image/png": "[encoded data removed]"
     },
     "metadata": {},
     "output_type": "display_data"
    }
   ],
   "source": [
    "# To deal with the outliers, we will remove the top 3% of data\n",
    "q = df['Salary'].quantile(0.97)\n",
    "df = df[df['Salary']<q]\n",
    "sns.distplot(df['Salary'])"
   ],
   "metadata": {
    "collapsed": false,
    "pycharm": {
     "name": "#%%\n"
    }
   }
  },
  {
   "cell_type": "code",
   "execution_count": 1390,
   "outputs": [
    {
     "name": "stderr",
     "output_type": "stream",
     "text": [
      "/var/folders/ml/4468d9mj28x8xpt9qg0_r0s00000gn/T/ipykernel_45324/1568063823.py:3: SettingWithCopyWarning: \n",
      "A value is trying to be set on a copy of a slice from a DataFrame.\n",
      "Try using .loc[row_indexer,col_indexer] = value instead\n",
      "\n",
      "See the caveats in the documentation: https://pandas.pydata.org/pandas-docs/stable/user_guide/indexing.html#returning-a-view-versus-a-copy\n",
      "  df['Log Salary']  = log_salary\n",
      "/Users/jebranirshad/opt/anaconda3/lib/python3.8/site-packages/seaborn/distributions.py:2619: FutureWarning: `distplot` is a deprecated function and will be removed in a future version. Please adapt your code to use either `displot` (a figure-level function with similar flexibility) or `histplot` (an axes-level function for histograms).\n",
      "  warnings.warn(msg, FutureWarning)\n"
     ]
    },
    {
     "data": {
      "text/plain": "<AxesSubplot:xlabel='Log Salary', ylabel='Density'>"
     },
     "execution_count": 1390,
     "metadata": {},
     "output_type": "execute_result"
    },
    {
     "data": {
      "text/plain": "<Figure size 432x288 with 1 Axes>",
      "image/png": "[encoded data removed]"
     },
     "metadata": {},
     "output_type": "display_data"
    }
   ],
   "source": [
    "#Since the salary is exponentially distributed, we will use log transformation for transformation\n",
    "log_salary = np.log(df['Salary'])\n",
    "df['Log Salary']  = log_salary\n",
    "df = df.drop('Salary', axis = 1)\n",
    "sns.distplot(df['Log Salary'])"
   ],
   "metadata": {
    "collapsed": false,
    "pycharm": {
     "name": "#%%\n"
    }
   }
  },
  {
   "cell_type": "code",
   "execution_count": 1391,
   "outputs": [
    {
     "name": "stderr",
     "output_type": "stream",
     "text": [
      "/Users/jebranirshad/opt/anaconda3/lib/python3.8/site-packages/seaborn/distributions.py:2619: FutureWarning: `distplot` is a deprecated function and will be removed in a future version. Please adapt your code to use either `displot` (a figure-level function with similar flexibility) or `histplot` (an axes-level function for histograms).\n",
      "  warnings.warn(msg, FutureWarning)\n"
     ]
    },
    {
     "data": {
      "text/plain": "<AxesSubplot:xlabel='YearsCodePro', ylabel='Density'>"
     },
     "execution_count": 1391,
     "metadata": {},
     "output_type": "execute_result"
    },
    {
     "data": {
      "text/plain": "<Figure size 432x288 with 1 Axes>",
      "image/png": "[encoded data removed]"
     },
     "metadata": {},
     "output_type": "display_data"
    }
   ],
   "source": [
    "# We will follow the same process for the YearsCodePro column\n",
    "sns.distplot(df['YearsCodePro'])"
   ],
   "metadata": {
    "collapsed": false,
    "pycharm": {
     "name": "#%%\n"
    }
   }
  },
  {
   "cell_type": "code",
   "execution_count": 1392,
   "outputs": [
    {
     "name": "stderr",
     "output_type": "stream",
     "text": [
      "/Users/jebranirshad/opt/anaconda3/lib/python3.8/site-packages/seaborn/distributions.py:2619: FutureWarning: `distplot` is a deprecated function and will be removed in a future version. Please adapt your code to use either `displot` (a figure-level function with similar flexibility) or `histplot` (an axes-level function for histograms).\n",
      "  warnings.warn(msg, FutureWarning)\n"
     ]
    },
    {
     "data": {
      "text/plain": "<AxesSubplot:xlabel='Log YearsCodePro', ylabel='Density'>"
     },
     "execution_count": 1392,
     "metadata": {},
     "output_type": "execute_result"
    },
    {
     "data": {
      "text/plain": "<Figure size 432x288 with 1 Axes>",
      "image/png": "[encoded data removed]"
     },
     "metadata": {},
     "output_type": "display_data"
    }
   ],
   "source": [
    "log_yrs = np.log(df['YearsCodePro'])\n",
    "df['Log YearsCodePro']  = log_yrs\n",
    "df = df.drop('YearsCodePro', axis = 1)\n",
    "sns.distplot(df['Log YearsCodePro'])"
   ],
   "metadata": {
    "collapsed": false,
    "pycharm": {
     "name": "#%%\n"
    }
   }
  },
  {
   "cell_type": "code",
   "execution_count": 1393,
   "outputs": [],
   "source": [
    "df = df.reset_index(drop=True)"
   ],
   "metadata": {
    "collapsed": false,
    "pycharm": {
     "name": "#%%\n"
    }
   }
  },
  {
   "cell_type": "code",
   "execution_count": 1394,
   "outputs": [
    {
     "name": "stdout",
     "output_type": "stream",
     "text": [
      "<class 'pandas.core.frame.DataFrame'>\n",
      "RangeIndex: 39366 entries, 0 to 39365\n",
      "Data columns (total 8 columns):\n",
      " #   Column            Non-Null Count  Dtype  \n",
      "---  ------            --------------  -----  \n",
      " 0   Country           39366 non-null  object \n",
      " 1   EdLevel           39366 non-null  object \n",
      " 2   OrgSize           39326 non-null  object \n",
      " 3   Age               39284 non-null  object \n",
      " 4   Gender            39231 non-null  object \n",
      " 5   Ethnicity         38620 non-null  object \n",
      " 6   Log Salary        39366 non-null  float64\n",
      " 7   Log YearsCodePro  38981 non-null  float64\n",
      "dtypes: float64(2), object(6)\n",
      "memory usage: 2.4+ MB\n"
     ]
    }
   ],
   "source": [
    "df.info()"
   ],
   "metadata": {
    "collapsed": false,
    "pycharm": {
     "name": "#%%\n"
    }
   }
  },
  {
   "cell_type": "code",
   "execution_count": 1395,
   "outputs": [],
   "source": [
    "# Now we will convert the categorical values to numerical values\n",
    "from sklearn.preprocessing import OrdinalEncoder\n",
    "\n",
    "encoder_dict = {}\n",
    "for col_name in df.iloc[:, 0:6]:\n",
    "    encoder_dict[col_name] = OrdinalEncoder()\n",
    "\n",
    "    col = df[col_name]\n",
    "    col_not_null = col[col.notnull()]\n",
    "    reshaped_vals = col_not_null.values.reshape(-1, 1)\n",
    "\n",
    "    encoded_vals = encoder_dict[col_name].fit_transform(reshaped_vals)\n",
    "    df.loc[col.notnull(), col_name] = np.squeeze(encoded_vals)"
   ],
   "metadata": {
    "collapsed": false,
    "pycharm": {
     "name": "#%%\n"
    }
   }
  },
  {
   "cell_type": "code",
   "execution_count": 1396,
   "outputs": [
    {
     "data": {
      "text/plain": "       Country  EdLevel OrgSize  Age Gender Ethnicity  Log Salary  \\\n0         14.0      2.0     1.0  1.0    0.0       7.0   10.850346   \n1         13.0      0.0     1.0  1.0    0.0       4.0   10.746820   \n2          4.0      2.0     0.0  1.0    0.0       7.0   11.255320   \n3         16.0      0.0     3.0  1.0    0.0       3.0    9.784028   \n4          2.0      0.0     7.0  1.0    0.0       7.0   10.739327   \n...        ...      ...     ...  ...    ...       ...         ...   \n39361     18.0      2.0     1.0  3.0    0.0       7.0   11.736069   \n39362      2.0      0.0     2.0  0.0    2.0       1.0   11.291892   \n39363     18.0      0.0     5.0  1.0    0.0       7.0   11.986049   \n39364     18.0      1.0     2.0  1.0    0.0       7.0   11.407565   \n39365      1.0      3.0     8.0  0.0    0.0       2.0    9.960246   \n\n       Log YearsCodePro  \n0              1.386294  \n1              1.609438  \n2              1.791759  \n3              0.693147  \n4              1.791759  \n...                 ...  \n39361          3.044522  \n39362         -0.693147  \n39363          1.609438  \n39364          1.386294  \n39365          1.386294  \n\n[39366 rows x 8 columns]",
      "text/html": "<div>\n<style scoped>\n    .dataframe tbody tr th:only-of-type {\n        vertical-align: middle;\n    }\n\n    .dataframe tbody tr th {\n        vertical-align: top;\n    }\n\n    .dataframe thead th {\n        text-align: right;\n    }\n</style>\n<table border=\"1\" class=\"dataframe\">\n  <thead>\n    <tr style=\"text-align: right;\">\n      <th></th>\n      <th>Country</th>\n      <th>EdLevel</th>\n      <th>OrgSize</th>\n      <th>Age</th>\n      <th>Gender</th>\n      <th>Ethnicity</th>\n      <th>Log Salary</th>\n      <th>Log YearsCodePro</th>\n    </tr>\n  </thead>\n  <tbody>\n    <tr>\n      <th>0</th>\n      <td>14.0</td>\n      <td>2.0</td>\n      <td>1.0</td>\n      <td>1.0</td>\n      <td>0.0</td>\n      <td>7.0</td>\n      <td>10.850346</td>\n      <td>1.386294</td>\n    </tr>\n    <tr>\n      <th>1</th>\n      <td>13.0</td>\n      <td>0.0</td>\n      <td>1.0</td>\n      <td>1.0</td>\n      <td>0.0</td>\n      <td>4.0</td>\n      <td>10.746820</td>\n      <td>1.609438</td>\n    </tr>\n    <tr>\n      <th>2</th>\n      <td>4.0</td>\n      <td>2.0</td>\n      <td>0.0</td>\n      <td>1.0</td>\n      <td>0.0</td>\n      <td>7.0</td>\n      <td>11.255320</td>\n      <td>1.791759</td>\n    </tr>\n    <tr>\n      <th>3</th>\n      <td>16.0</td>\n      <td>0.0</td>\n      <td>3.0</td>\n      <td>1.0</td>\n      <td>0.0</td>\n      <td>3.0</td>\n      <td>9.784028</td>\n      <td>0.693147</td>\n    </tr>\n    <tr>\n      <th>4</th>\n      <td>2.0</td>\n      <td>0.0</td>\n      <td>7.0</td>\n      <td>1.0</td>\n      <td>0.0</td>\n      <td>7.0</td>\n      <td>10.739327</td>\n      <td>1.791759</td>\n    </tr>\n    <tr>\n      <th>...</th>\n      <td>...</td>\n      <td>...</td>\n      <td>...</td>\n      <td>...</td>\n      <td>...</td>\n      <td>...</td>\n      <td>...</td>\n      <td>...</td>\n    </tr>\n    <tr>\n      <th>39361</th>\n      <td>18.0</td>\n      <td>2.0</td>\n      <td>1.0</td>\n      <td>3.0</td>\n      <td>0.0</td>\n      <td>7.0</td>\n      <td>11.736069</td>\n      <td>3.044522</td>\n    </tr>\n    <tr>\n      <th>39362</th>\n      <td>2.0</td>\n      <td>0.0</td>\n      <td>2.0</td>\n      <td>0.0</td>\n      <td>2.0</td>\n      <td>1.0</td>\n      <td>11.291892</td>\n      <td>-0.693147</td>\n    </tr>\n    <tr>\n      <th>39363</th>\n      <td>18.0</td>\n      <td>0.0</td>\n      <td>5.0</td>\n      <td>1.0</td>\n      <td>0.0</td>\n      <td>7.0</td>\n      <td>11.986049</td>\n      <td>1.609438</td>\n    </tr>\n    <tr>\n      <th>39364</th>\n      <td>18.0</td>\n      <td>1.0</td>\n      <td>2.0</td>\n      <td>1.0</td>\n      <td>0.0</td>\n      <td>7.0</td>\n      <td>11.407565</td>\n      <td>1.386294</td>\n    </tr>\n    <tr>\n      <th>39365</th>\n      <td>1.0</td>\n      <td>3.0</td>\n      <td>8.0</td>\n      <td>0.0</td>\n      <td>0.0</td>\n      <td>2.0</td>\n      <td>9.960246</td>\n      <td>1.386294</td>\n    </tr>\n  </tbody>\n</table>\n<p>39366 rows × 8 columns</p>\n</div>"
     },
     "execution_count": 1396,
     "metadata": {},
     "output_type": "execute_result"
    }
   ],
   "source": [
    "df"
   ],
   "metadata": {
    "collapsed": false,
    "pycharm": {
     "name": "#%%\n"
    }
   }
  },
  {
   "cell_type": "code",
   "execution_count": 1397,
   "outputs": [],
   "source": [
    "# We will use KNN imputation for the null values and round the values\n",
    "from sklearn.impute import KNNImputer\n",
    "\n",
    "imputer = KNNImputer(n_neighbors=5)\n",
    "df.iloc[:, 0:6] = np.round(imputer.fit_transform(df.iloc[:, 0:6]))"
   ],
   "metadata": {
    "collapsed": false,
    "pycharm": {
     "name": "#%%\n"
    }
   }
  },
  {
   "cell_type": "code",
   "execution_count": 1398,
   "outputs": [
    {
     "data": {
      "text/plain": "       Country  EdLevel  OrgSize  Age  Gender  Ethnicity  Log Salary  \\\n0         14.0      2.0      1.0  1.0     0.0        7.0   10.850346   \n1         13.0      0.0      1.0  1.0     0.0        4.0   10.746820   \n2          4.0      2.0      0.0  1.0     0.0        7.0   11.255320   \n3         16.0      0.0      3.0  1.0     0.0        3.0    9.784028   \n4          2.0      0.0      7.0  1.0     0.0        7.0   10.739327   \n...        ...      ...      ...  ...     ...        ...         ...   \n39361     18.0      2.0      1.0  3.0     0.0        7.0   11.736069   \n39362      2.0      0.0      2.0  0.0     2.0        1.0   11.291892   \n39363     18.0      0.0      5.0  1.0     0.0        7.0   11.986049   \n39364     18.0      1.0      2.0  1.0     0.0        7.0   11.407565   \n39365      1.0      3.0      8.0  0.0     0.0        2.0    9.960246   \n\n       Log YearsCodePro  \n0              1.386294  \n1              1.609438  \n2              1.791759  \n3              0.693147  \n4              1.791759  \n...                 ...  \n39361          3.044522  \n39362         -0.693147  \n39363          1.609438  \n39364          1.386294  \n39365          1.386294  \n\n[39366 rows x 8 columns]",
      "text/html": "<div>\n<style scoped>\n    .dataframe tbody tr th:only-of-type {\n        vertical-align: middle;\n    }\n\n    .dataframe tbody tr th {\n        vertical-align: top;\n    }\n\n    .dataframe thead th {\n        text-align: right;\n    }\n</style>\n<table border=\"1\" class=\"dataframe\">\n  <thead>\n    <tr style=\"text-align: right;\">\n      <th></th>\n      <th>Country</th>\n      <th>EdLevel</th>\n      <th>OrgSize</th>\n      <th>Age</th>\n      <th>Gender</th>\n      <th>Ethnicity</th>\n      <th>Log Salary</th>\n      <th>Log YearsCodePro</th>\n    </tr>\n  </thead>\n  <tbody>\n    <tr>\n      <th>0</th>\n      <td>14.0</td>\n      <td>2.0</td>\n      <td>1.0</td>\n      <td>1.0</td>\n      <td>0.0</td>\n      <td>7.0</td>\n      <td>10.850346</td>\n      <td>1.386294</td>\n    </tr>\n    <tr>\n      <th>1</th>\n      <td>13.0</td>\n      <td>0.0</td>\n      <td>1.0</td>\n      <td>1.0</td>\n      <td>0.0</td>\n      <td>4.0</td>\n      <td>10.746820</td>\n      <td>1.609438</td>\n    </tr>\n    <tr>\n      <th>2</th>\n      <td>4.0</td>\n      <td>2.0</td>\n      <td>0.0</td>\n      <td>1.0</td>\n      <td>0.0</td>\n      <td>7.0</td>\n      <td>11.255320</td>\n      <td>1.791759</td>\n    </tr>\n    <tr>\n      <th>3</th>\n      <td>16.0</td>\n      <td>0.0</td>\n      <td>3.0</td>\n      <td>1.0</td>\n      <td>0.0</td>\n      <td>3.0</td>\n      <td>9.784028</td>\n      <td>0.693147</td>\n    </tr>\n    <tr>\n      <th>4</th>\n      <td>2.0</td>\n      <td>0.0</td>\n      <td>7.0</td>\n      <td>1.0</td>\n      <td>0.0</td>\n      <td>7.0</td>\n      <td>10.739327</td>\n      <td>1.791759</td>\n    </tr>\n    <tr>\n      <th>...</th>\n      <td>...</td>\n      <td>...</td>\n      <td>...</td>\n      <td>...</td>\n      <td>...</td>\n      <td>...</td>\n      <td>...</td>\n      <td>...</td>\n    </tr>\n    <tr>\n      <th>39361</th>\n      <td>18.0</td>\n      <td>2.0</td>\n      <td>1.0</td>\n      <td>3.0</td>\n      <td>0.0</td>\n      <td>7.0</td>\n      <td>11.736069</td>\n      <td>3.044522</td>\n    </tr>\n    <tr>\n      <th>39362</th>\n      <td>2.0</td>\n      <td>0.0</td>\n      <td>2.0</td>\n      <td>0.0</td>\n      <td>2.0</td>\n      <td>1.0</td>\n      <td>11.291892</td>\n      <td>-0.693147</td>\n    </tr>\n    <tr>\n      <th>39363</th>\n      <td>18.0</td>\n      <td>0.0</td>\n      <td>5.0</td>\n      <td>1.0</td>\n      <td>0.0</td>\n      <td>7.0</td>\n      <td>11.986049</td>\n      <td>1.609438</td>\n    </tr>\n    <tr>\n      <th>39364</th>\n      <td>18.0</td>\n      <td>1.0</td>\n      <td>2.0</td>\n      <td>1.0</td>\n      <td>0.0</td>\n      <td>7.0</td>\n      <td>11.407565</td>\n      <td>1.386294</td>\n    </tr>\n    <tr>\n      <th>39365</th>\n      <td>1.0</td>\n      <td>3.0</td>\n      <td>8.0</td>\n      <td>0.0</td>\n      <td>0.0</td>\n      <td>2.0</td>\n      <td>9.960246</td>\n      <td>1.386294</td>\n    </tr>\n  </tbody>\n</table>\n<p>39366 rows × 8 columns</p>\n</div>"
     },
     "execution_count": 1398,
     "metadata": {},
     "output_type": "execute_result"
    }
   ],
   "source": [
    "df"
   ],
   "metadata": {
    "collapsed": false,
    "pycharm": {
     "name": "#%%\n"
    }
   }
  },
  {
   "cell_type": "code",
   "execution_count": 1399,
   "outputs": [
    {
     "data": {
      "text/plain": "Country               0\nEdLevel               0\nOrgSize               0\nAge                   0\nGender                0\nEthnicity             0\nLog Salary            0\nLog YearsCodePro    385\ndtype: int64"
     },
     "execution_count": 1399,
     "metadata": {},
     "output_type": "execute_result"
    }
   ],
   "source": [
    "df.isnull().sum()"
   ],
   "metadata": {
    "collapsed": false,
    "pycharm": {
     "name": "#%%\n"
    }
   }
  },
  {
   "cell_type": "code",
   "execution_count": 1400,
   "outputs": [],
   "source": [
    "df.iloc[:, -1:] = imputer.fit_transform(df.iloc[:, -1:])"
   ],
   "metadata": {
    "collapsed": false,
    "pycharm": {
     "name": "#%%\n"
    }
   }
  },
  {
   "cell_type": "code",
   "execution_count": 1401,
   "outputs": [
    {
     "data": {
      "text/plain": "       Country  EdLevel  OrgSize  Age  Gender  Ethnicity  Log Salary  \\\n0         14.0      2.0      1.0  1.0     0.0        7.0   10.850346   \n1         13.0      0.0      1.0  1.0     0.0        4.0   10.746820   \n2          4.0      2.0      0.0  1.0     0.0        7.0   11.255320   \n3         16.0      0.0      3.0  1.0     0.0        3.0    9.784028   \n4          2.0      0.0      7.0  1.0     0.0        7.0   10.739327   \n...        ...      ...      ...  ...     ...        ...         ...   \n39361     18.0      2.0      1.0  3.0     0.0        7.0   11.736069   \n39362      2.0      0.0      2.0  0.0     2.0        1.0   11.291892   \n39363     18.0      0.0      5.0  1.0     0.0        7.0   11.986049   \n39364     18.0      1.0      2.0  1.0     0.0        7.0   11.407565   \n39365      1.0      3.0      8.0  0.0     0.0        2.0    9.960246   \n\n       Log YearsCodePro  \n0              1.386294  \n1              1.609438  \n2              1.791759  \n3              0.693147  \n4              1.791759  \n...                 ...  \n39361          3.044522  \n39362         -0.693147  \n39363          1.609438  \n39364          1.386294  \n39365          1.386294  \n\n[39366 rows x 8 columns]",
      "text/html": "<div>\n<style scoped>\n    .dataframe tbody tr th:only-of-type {\n        vertical-align: middle;\n    }\n\n    .dataframe tbody tr th {\n        vertical-align: top;\n    }\n\n    .dataframe thead th {\n        text-align: right;\n    }\n</style>\n<table border=\"1\" class=\"dataframe\">\n  <thead>\n    <tr style=\"text-align: right;\">\n      <th></th>\n      <th>Country</th>\n      <th>EdLevel</th>\n      <th>OrgSize</th>\n      <th>Age</th>\n      <th>Gender</th>\n      <th>Ethnicity</th>\n      <th>Log Salary</th>\n      <th>Log YearsCodePro</th>\n    </tr>\n  </thead>\n  <tbody>\n    <tr>\n      <th>0</th>\n      <td>14.0</td>\n      <td>2.0</td>\n      <td>1.0</td>\n      <td>1.0</td>\n      <td>0.0</td>\n      <td>7.0</td>\n      <td>10.850346</td>\n      <td>1.386294</td>\n    </tr>\n    <tr>\n      <th>1</th>\n      <td>13.0</td>\n      <td>0.0</td>\n      <td>1.0</td>\n      <td>1.0</td>\n      <td>0.0</td>\n      <td>4.0</td>\n      <td>10.746820</td>\n      <td>1.609438</td>\n    </tr>\n    <tr>\n      <th>2</th>\n      <td>4.0</td>\n      <td>2.0</td>\n      <td>0.0</td>\n      <td>1.0</td>\n      <td>0.0</td>\n      <td>7.0</td>\n      <td>11.255320</td>\n      <td>1.791759</td>\n    </tr>\n    <tr>\n      <th>3</th>\n      <td>16.0</td>\n      <td>0.0</td>\n      <td>3.0</td>\n      <td>1.0</td>\n      <td>0.0</td>\n      <td>3.0</td>\n      <td>9.784028</td>\n      <td>0.693147</td>\n    </tr>\n    <tr>\n      <th>4</th>\n      <td>2.0</td>\n      <td>0.0</td>\n      <td>7.0</td>\n      <td>1.0</td>\n      <td>0.0</td>\n      <td>7.0</td>\n      <td>10.739327</td>\n      <td>1.791759</td>\n    </tr>\n    <tr>\n      <th>...</th>\n      <td>...</td>\n      <td>...</td>\n      <td>...</td>\n      <td>...</td>\n      <td>...</td>\n      <td>...</td>\n      <td>...</td>\n      <td>...</td>\n    </tr>\n    <tr>\n      <th>39361</th>\n      <td>18.0</td>\n      <td>2.0</td>\n      <td>1.0</td>\n      <td>3.0</td>\n      <td>0.0</td>\n      <td>7.0</td>\n      <td>11.736069</td>\n      <td>3.044522</td>\n    </tr>\n    <tr>\n      <th>39362</th>\n      <td>2.0</td>\n      <td>0.0</td>\n      <td>2.0</td>\n      <td>0.0</td>\n      <td>2.0</td>\n      <td>1.0</td>\n      <td>11.291892</td>\n      <td>-0.693147</td>\n    </tr>\n    <tr>\n      <th>39363</th>\n      <td>18.0</td>\n      <td>0.0</td>\n      <td>5.0</td>\n      <td>1.0</td>\n      <td>0.0</td>\n      <td>7.0</td>\n      <td>11.986049</td>\n      <td>1.609438</td>\n    </tr>\n    <tr>\n      <th>39364</th>\n      <td>18.0</td>\n      <td>1.0</td>\n      <td>2.0</td>\n      <td>1.0</td>\n      <td>0.0</td>\n      <td>7.0</td>\n      <td>11.407565</td>\n      <td>1.386294</td>\n    </tr>\n    <tr>\n      <th>39365</th>\n      <td>1.0</td>\n      <td>3.0</td>\n      <td>8.0</td>\n      <td>0.0</td>\n      <td>0.0</td>\n      <td>2.0</td>\n      <td>9.960246</td>\n      <td>1.386294</td>\n    </tr>\n  </tbody>\n</table>\n<p>39366 rows × 8 columns</p>\n</div>"
     },
     "execution_count": 1401,
     "metadata": {},
     "output_type": "execute_result"
    }
   ],
   "source": [
    "df"
   ],
   "metadata": {
    "collapsed": false,
    "pycharm": {
     "name": "#%%\n"
    }
   }
  },
  {
   "cell_type": "code",
   "execution_count": 1402,
   "outputs": [
    {
     "data": {
      "text/plain": "Country             0\nEdLevel             0\nOrgSize             0\nAge                 0\nGender              0\nEthnicity           0\nLog Salary          0\nLog YearsCodePro    0\ndtype: int64"
     },
     "execution_count": 1402,
     "metadata": {},
     "output_type": "execute_result"
    }
   ],
   "source": [
    "df.isnull().sum()"
   ],
   "metadata": {
    "collapsed": false,
    "pycharm": {
     "name": "#%%\n"
    }
   }
  },
  {
   "cell_type": "code",
   "execution_count": 1403,
   "outputs": [
    {
     "data": {
      "text/plain": "    Country   EdLevel  OrgSize  Age  Gender  Ethnicity  Log Salary  \\\n0  0.777778  0.666667    0.125  0.2     0.0   1.000000    0.831411   \n1  0.722222  0.000000    0.125  0.2     0.0   0.571429    0.823479   \n2  0.222222  0.666667    0.000  0.2     0.0   1.000000    0.862443   \n3  0.888889  0.000000    0.375  0.2     0.0   0.428571    0.749704   \n4  0.111111  0.000000    0.875  0.2     0.0   1.000000    0.822904   \n\n   Log YearsCodePro  \n0          0.451545  \n1          0.500000  \n2          0.539591  \n3          0.301030  \n4          0.539591  ",
      "text/html": "<div>\n<style scoped>\n    .dataframe tbody tr th:only-of-type {\n        vertical-align: middle;\n    }\n\n    .dataframe tbody tr th {\n        vertical-align: top;\n    }\n\n    .dataframe thead th {\n        text-align: right;\n    }\n</style>\n<table border=\"1\" class=\"dataframe\">\n  <thead>\n    <tr style=\"text-align: right;\">\n      <th></th>\n      <th>Country</th>\n      <th>EdLevel</th>\n      <th>OrgSize</th>\n      <th>Age</th>\n      <th>Gender</th>\n      <th>Ethnicity</th>\n      <th>Log Salary</th>\n      <th>Log YearsCodePro</th>\n    </tr>\n  </thead>\n  <tbody>\n    <tr>\n      <th>0</th>\n      <td>0.777778</td>\n      <td>0.666667</td>\n      <td>0.125</td>\n      <td>0.2</td>\n      <td>0.0</td>\n      <td>1.000000</td>\n      <td>0.831411</td>\n      <td>0.451545</td>\n    </tr>\n    <tr>\n      <th>1</th>\n      <td>0.722222</td>\n      <td>0.000000</td>\n      <td>0.125</td>\n      <td>0.2</td>\n      <td>0.0</td>\n      <td>0.571429</td>\n      <td>0.823479</td>\n      <td>0.500000</td>\n    </tr>\n    <tr>\n      <th>2</th>\n      <td>0.222222</td>\n      <td>0.666667</td>\n      <td>0.000</td>\n      <td>0.2</td>\n      <td>0.0</td>\n      <td>1.000000</td>\n      <td>0.862443</td>\n      <td>0.539591</td>\n    </tr>\n    <tr>\n      <th>3</th>\n      <td>0.888889</td>\n      <td>0.000000</td>\n      <td>0.375</td>\n      <td>0.2</td>\n      <td>0.0</td>\n      <td>0.428571</td>\n      <td>0.749704</td>\n      <td>0.301030</td>\n    </tr>\n    <tr>\n      <th>4</th>\n      <td>0.111111</td>\n      <td>0.000000</td>\n      <td>0.875</td>\n      <td>0.2</td>\n      <td>0.0</td>\n      <td>1.000000</td>\n      <td>0.822904</td>\n      <td>0.539591</td>\n    </tr>\n  </tbody>\n</table>\n</div>"
     },
     "execution_count": 1403,
     "metadata": {},
     "output_type": "execute_result"
    }
   ],
   "source": [
    "from sklearn.preprocessing import MinMaxScaler\n",
    "scaler = MinMaxScaler()\n",
    "df = pd.DataFrame(scaler.fit_transform(df), columns = df.columns)\n",
    "df.head()"
   ],
   "metadata": {
    "collapsed": false,
    "pycharm": {
     "name": "#%%\n"
    }
   }
  },
  {
   "cell_type": "code",
   "execution_count": 1432,
   "outputs": [
    {
     "data": {
      "text/plain": "<AxesSubplot:>"
     },
     "execution_count": 1432,
     "metadata": {},
     "output_type": "execute_result"
    },
    {
     "data": {
      "text/plain": "<Figure size 1080x720 with 2 Axes>",
      "image/png": "[encoded data removed]"
     },
     "metadata": {},
     "output_type": "display_data"
    }
   ],
   "source": [
    "corr = df.corr()\n",
    "plt.figure(figsize=(15,10))\n",
    "sns.heatmap(corr, annot = True)"
   ],
   "metadata": {
    "collapsed": false,
    "pycharm": {
     "name": "#%%\n"
    }
   }
  },
  {
   "cell_type": "code",
   "execution_count": 1419,
   "outputs": [],
   "source": [
    "# Now we will set our target\n",
    "X = df.drop('Log Salary', axis = 1)\n",
    "y = df['Log Salary']"
   ],
   "metadata": {
    "collapsed": false,
    "pycharm": {
     "name": "#%%\n"
    }
   }
  },
  {
   "cell_type": "code",
   "execution_count": 1426,
   "outputs": [],
   "source": [
    "from sklearn.model_selection import cross_val_score, train_test_split\n",
    "def predict(model, x, y):\n",
    "    x_train, x_test, y_train, y_test = train_test_split(X, y, test_size = 0.2, random_state = 42)\n",
    "    model.fit(x_train, y_train)\n",
    "    print(\"Accuracy is\", model.score(x_test, y_test)*100)\n",
    "    score = cross_val_score(model, x, y, cv = 10)\n",
    "    print(\"Cross validation is\",np.mean(score)*100)"
   ],
   "metadata": {
    "collapsed": false,
    "pycharm": {
     "name": "#%%\n"
    }
   }
  },
  {
   "cell_type": "code",
   "execution_count": 1427,
   "outputs": [
    {
     "name": "stdout",
     "output_type": "stream",
     "text": [
      "Accuracy is 32.595553369409416\n",
      "Cross validation is 31.692662749070948\n"
     ]
    }
   ],
   "source": [
    "from sklearn.linear_model import LinearRegression\n",
    "model = LinearRegression()\n",
    "predict(model, X, y)"
   ],
   "metadata": {
    "collapsed": false,
    "pycharm": {
     "name": "#%%\n"
    }
   }
  },
  {
   "cell_type": "code",
   "execution_count": 1428,
   "outputs": [
    {
     "name": "stdout",
     "output_type": "stream",
     "text": [
      "Accuracy is 21.035599756673797\n",
      "Cross validation is 29.03373916254552\n"
     ]
    }
   ],
   "source": [
    "from sklearn.tree import DecisionTreeRegressor\n",
    "model = DecisionTreeRegressor(random_state=0)\n",
    "predict(model, X, y)"
   ],
   "metadata": {
    "collapsed": false,
    "pycharm": {
     "name": "#%%\n"
    }
   }
  },
  {
   "cell_type": "code",
   "execution_count": 1429,
   "outputs": [
    {
     "name": "stdout",
     "output_type": "stream",
     "text": [
      "Accuracy is 47.74392030487393\n",
      "Cross validation is 48.79682217867119\n"
     ]
    }
   ],
   "source": [
    "from sklearn.ensemble import RandomForestRegressor\n",
    "model = RandomForestRegressor(random_state=0)\n",
    "predict(model, X, y)"
   ],
   "metadata": {
    "collapsed": false,
    "pycharm": {
     "name": "#%%\n"
    }
   }
  },
  {
   "cell_type": "code",
   "execution_count": 1430,
   "outputs": [
    {
     "data": {
      "text/plain": "GridSearchCV(estimator=DecisionTreeRegressor(random_state=0),\n             param_grid={'max_depth': [None, 2, 4, 6, 8, 10, 12]},\n             scoring='neg_mean_squared_error')"
     },
     "execution_count": 1430,
     "metadata": {},
     "output_type": "execute_result"
    }
   ],
   "source": [
    "from sklearn.model_selection import GridSearchCV\n",
    "\n",
    "max_depth = [None, 2,4,6,8,10,12]\n",
    "parameters = {\"max_depth\": max_depth}\n",
    "\n",
    "regressor = DecisionTreeRegressor(random_state=0)\n",
    "gs = GridSearchCV(regressor, parameters, scoring='neg_mean_squared_error')\n",
    "gs.fit(X, y)"
   ],
   "metadata": {
    "collapsed": false,
    "pycharm": {
     "name": "#%%\n"
    }
   }
  },
  {
   "cell_type": "code",
   "execution_count": 1431,
   "outputs": [
    {
     "name": "stdout",
     "output_type": "stream",
     "text": [
      "Accuracy is 52.98413996813214\n",
      "Cross validation is 53.34137793758069\n"
     ]
    }
   ],
   "source": [
    "regressor = gs.best_estimator_\n",
    "predict(regressor, X, y)"
   ],
   "metadata": {
    "collapsed": false,
    "pycharm": {
     "name": "#%%\n"
    }
   }
  }
 ],
 "metadata": {
  "kernelspec": {
   "display_name": "Python 3",
   "language": "python",
   "name": "python3"
  },
  "language_info": {
   "codemirror_mode": {
    "name": "ipython",
    "version": 2
   },
   "file_extension": ".py",
   "mimetype": "text/x-python",
   "name": "python",
   "nbconvert_exporter": "python",
   "pygments_lexer": "ipython2",
   "version": "2.7.6"
  }
 },
 "nbformat": 4,
 "nbformat_minor": 0
}